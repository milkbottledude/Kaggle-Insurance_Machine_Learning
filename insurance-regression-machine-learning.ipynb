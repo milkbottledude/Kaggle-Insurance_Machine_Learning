{
 "cells": [
  {
   "cell_type": "code",
   "execution_count": 1,
   "id": "9dc78cae",
   "metadata": {
    "_cell_guid": "b1076dfc-b9ad-4769-8c92-a6c4dae69d19",
    "_uuid": "8f2839f25d086af736a60e9eeb907d3b93b6e0e5",
    "execution": {
     "iopub.execute_input": "2024-12-01T11:46:59.370993Z",
     "iopub.status.busy": "2024-12-01T11:46:59.369952Z",
     "iopub.status.idle": "2024-12-01T11:47:00.368892Z",
     "shell.execute_reply": "2024-12-01T11:47:00.367455Z"
    },
    "papermill": {
     "duration": 1.005823,
     "end_time": "2024-12-01T11:47:00.371711",
     "exception": false,
     "start_time": "2024-12-01T11:46:59.365888",
     "status": "completed"
    },
    "tags": []
   },
   "outputs": [
    {
     "name": "stdout",
     "output_type": "stream",
     "text": [
      "/kaggle/input/playground-series-s4e12/sample_submission.csv\n",
      "/kaggle/input/playground-series-s4e12/train.csv\n",
      "/kaggle/input/playground-series-s4e12/test.csv\n"
     ]
    }
   ],
   "source": [
    "# This Python 3 environment comes with many helpful analytics libraries installed\n",
    "# It is defined by the kaggle/python Docker image: https://github.com/kaggle/docker-python\n",
    "# For example, here's several helpful packages to load\n",
    "\n",
    "import numpy as np # linear algebra\n",
    "import pandas as pd # data processing, CSV file I/O (e.g. pd.read_csv)\n",
    "\n",
    "# Input data files are available in the read-only \"../input/\" directory\n",
    "# For example, running this (by clicking run or pressing Shift+Enter) will list all files under the input directory\n",
    "\n",
    "import os\n",
    "for dirname, _, filenames in os.walk('/kaggle/input'):\n",
    "    for filename in filenames:\n",
    "        print(os.path.join(dirname, filename))\n",
    "\n",
    "# You can write up to 20GB to the current directory (/kaggle/working/) that gets preserved as output when you create a version using \"Save & Run All\" \n",
    "# You can also write temporary files to /kaggle/temp/, but they won't be saved outside of the current session"
   ]
  },
  {
   "cell_type": "markdown",
   "id": "4c72fab0",
   "metadata": {
    "papermill": {
     "duration": 0.001664,
     "end_time": "2024-12-01T11:47:00.375808",
     "exception": false,
     "start_time": "2024-12-01T11:47:00.374144",
     "status": "completed"
    },
    "tags": []
   },
   "source": [
    "# 1) Data Cleaning"
   ]
  },
  {
   "cell_type": "markdown",
   "id": "2d624653",
   "metadata": {
    "papermill": {
     "duration": 0.001575,
     "end_time": "2024-12-01T11:47:00.379262",
     "exception": false,
     "start_time": "2024-12-01T11:47:00.377687",
     "status": "completed"
    },
    "tags": []
   },
   "source": [
    "## configuring training data"
   ]
  },
  {
   "cell_type": "code",
   "execution_count": 2,
   "id": "71427865",
   "metadata": {
    "execution": {
     "iopub.execute_input": "2024-12-01T11:47:00.384879Z",
     "iopub.status.busy": "2024-12-01T11:47:00.384323Z",
     "iopub.status.idle": "2024-12-01T11:47:08.298313Z",
     "shell.execute_reply": "2024-12-01T11:47:08.296662Z"
    },
    "papermill": {
     "duration": 7.919591,
     "end_time": "2024-12-01T11:47:08.300755",
     "exception": false,
     "start_time": "2024-12-01T11:47:00.381164",
     "status": "completed"
    },
    "tags": []
   },
   "outputs": [
    {
     "name": "stdout",
     "output_type": "stream",
     "text": [
      "- Age\n",
      "- Annual Income\n",
      "- Marital Status\n",
      "- Number of Dependents\n",
      "- Occupation\n",
      "- Health Score\n",
      "- Previous Claims\n",
      "- Vehicle Age\n",
      "- Credit Score\n",
      "- Insurance Duration\n",
      "- Customer Feedback\n",
      "41.145563131986506\n",
      "fillNaN complete\n"
     ]
    }
   ],
   "source": [
    "train_data = pd.read_csv('/kaggle/input/playground-series-s4e12/train.csv')\n",
    "y = train_data['Premium Amount']\n",
    "train_data = train_data.drop(['id', 'Premium Amount'], axis=1)\n",
    "\n",
    "# function to check for NaN values in a specified column\n",
    "def checknan(colname):\n",
    "    print(train_data[train_data[colname].isna()])\n",
    "\n",
    "# function to fillna with either mean, median, 0, or another column\n",
    "def fillNaN(colnamelist, type, othercol=None):\n",
    "    if type == 'mean':\n",
    "        for colname in colnamelist:\n",
    "            train_data.fillna({colname: train_data[colname].median()}, inplace = True)\n",
    "    elif type == 'median':\n",
    "        for colname in colnamelist:\n",
    "            train_data.fillna({colname: train_data[colname].median()}, inplace = True)\n",
    "    elif type == 0:\n",
    "        for colname in colnamelist:\n",
    "            train_data.fillna({colname: 0}, inplace = True)\n",
    "    elif type == 'othercol':\n",
    "        for colname in colnamelist:\n",
    "            train_data.fillna({colname: train_data[othercol]}, inplace = True)\n",
    "    print('fillNaN complete')\n",
    "\n",
    "nan_cols = train_data.columns[train_data.isna().any()]\n",
    "for col in nan_cols:\n",
    "    print(f'- {col}')\n",
    "\n",
    "# fillna for column: Age\n",
    "print(train_data['Age'].mean())\n",
    "fillNaN(['Age'], 'mean')"
   ]
  }
 ],
 "metadata": {
  "kaggle": {
   "accelerator": "none",
   "dataSources": [
    {
     "databundleVersionId": 10305135,
     "sourceId": 84896,
     "sourceType": "competition"
    }
   ],
   "dockerImageVersionId": 30786,
   "isGpuEnabled": false,
   "isInternetEnabled": true,
   "language": "python",
   "sourceType": "notebook"
  },
  "kernelspec": {
   "display_name": "Python 3",
   "language": "python",
   "name": "python3"
  },
  "language_info": {
   "codemirror_mode": {
    "name": "ipython",
    "version": 3
   },
   "file_extension": ".py",
   "mimetype": "text/x-python",
   "name": "python",
   "nbconvert_exporter": "python",
   "pygments_lexer": "ipython3",
   "version": "3.10.14"
  },
  "papermill": {
   "default_parameters": {},
   "duration": 12.344464,
   "end_time": "2024-12-01T11:47:08.927070",
   "environment_variables": {},
   "exception": null,
   "input_path": "__notebook__.ipynb",
   "output_path": "__notebook__.ipynb",
   "parameters": {},
   "start_time": "2024-12-01T11:46:56.582606",
   "version": "2.6.0"
  }
 },
 "nbformat": 4,
 "nbformat_minor": 5
}
