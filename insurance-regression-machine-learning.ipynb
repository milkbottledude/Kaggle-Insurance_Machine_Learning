{
 "cells": [
  {
   "cell_type": "code",
   "execution_count": 1,
   "id": "003513dc",
   "metadata": {
    "_cell_guid": "b1076dfc-b9ad-4769-8c92-a6c4dae69d19",
    "_uuid": "8f2839f25d086af736a60e9eeb907d3b93b6e0e5",
    "execution": {
     "iopub.execute_input": "2024-12-14T09:13:48.109963Z",
     "iopub.status.busy": "2024-12-14T09:13:48.109563Z",
     "iopub.status.idle": "2024-12-14T09:13:49.187872Z",
     "shell.execute_reply": "2024-12-14T09:13:49.186633Z"
    },
    "papermill": {
     "duration": 1.087431,
     "end_time": "2024-12-14T09:13:49.190757",
     "exception": false,
     "start_time": "2024-12-14T09:13:48.103326",
     "status": "completed"
    },
    "tags": []
   },
   "outputs": [
    {
     "name": "stdout",
     "output_type": "stream",
     "text": [
      "/kaggle/input/playground-series-s4e12/sample_submission.csv\n",
      "/kaggle/input/playground-series-s4e12/train.csv\n",
      "/kaggle/input/playground-series-s4e12/test.csv\n"
     ]
    }
   ],
   "source": [
    "# This Python 3 environment comes with many helpful analytics libraries installed\n",
    "# It is defined by the kaggle/python Docker image: https://github.com/kaggle/docker-python\n",
    "# For example, here's several helpful packages to load\n",
    "\n",
    "import numpy as np # linear algebra\n",
    "import pandas as pd # data processing, CSV file I/O (e.g. pd.read_csv)\n",
    "\n",
    "# Input data files are available in the read-only \"../input/\" directory\n",
    "# For example, running this (by clicking run or pressing Shift+Enter) will list all files under the input directory\n",
    "\n",
    "import os\n",
    "for dirname, _, filenames in os.walk('/kaggle/input'):\n",
    "    for filename in filenames:\n",
    "        print(os.path.join(dirname, filename))\n",
    "\n",
    "# You can write up to 20GB to the current directory (/kaggle/working/) that gets preserved as output when you create a version using \"Save & Run All\" \n",
    "# You can also write temporary files to /kaggle/temp/, but they won't be saved outside of the current session"
   ]
  },
  {
   "cell_type": "markdown",
   "id": "ce0044a3",
   "metadata": {
    "papermill": {
     "duration": 0.003253,
     "end_time": "2024-12-14T09:13:49.197895",
     "exception": false,
     "start_time": "2024-12-14T09:13:49.194642",
     "status": "completed"
    },
    "tags": []
   },
   "source": [
    "# 1) Data Cleaning"
   ]
  },
  {
   "cell_type": "markdown",
   "id": "ad8de1ad",
   "metadata": {
    "papermill": {
     "duration": 0.003673,
     "end_time": "2024-12-14T09:13:49.205586",
     "exception": false,
     "start_time": "2024-12-14T09:13:49.201913",
     "status": "completed"
    },
    "tags": []
   },
   "source": [
    "## configuring training and test data "
   ]
  },
  {
   "cell_type": "code",
   "execution_count": 2,
   "id": "f332e7d2",
   "metadata": {
    "execution": {
     "iopub.execute_input": "2024-12-14T09:13:49.216617Z",
     "iopub.status.busy": "2024-12-14T09:13:49.216048Z",
     "iopub.status.idle": "2024-12-14T09:14:10.962460Z",
     "shell.execute_reply": "2024-12-14T09:14:10.961126Z"
    },
    "papermill": {
     "duration": 21.754989,
     "end_time": "2024-12-14T09:14:10.965436",
     "exception": false,
     "start_time": "2024-12-14T09:13:49.210447",
     "status": "completed"
    },
    "tags": []
   },
   "outputs": [
    {
     "name": "stdout",
     "output_type": "stream",
     "text": [
      "fillNaN [mean] complete\n",
      "fillNaN [median] complete\n",
      "fillNaN [mode] complete\n",
      "1200000\n",
      "800000\n",
      "960000\n",
      "                                  0       1\n",
      "Age                              48      48\n",
      "Gender                            2       2\n",
      "Annual Income                 88593   80716\n",
      "Number of Dependents              6       6\n",
      "Health Score                 532658  388703\n",
      "Previous Claims                  10      10\n",
      "Vehicle Age                      20      20\n",
      "Credit Score                    550     550\n",
      "Insurance Duration                9       9\n",
      "Customer Feedback                 3       3\n",
      "Smoking Status                    2       2\n",
      "start year                        6       6\n",
      "Marital Status_Divorced           2       2\n",
      "Marital Status_Married            2       2\n",
      "Marital Status_Single             2       2\n",
      "Education Level_Bachelor's        2       2\n",
      "Education Level_High School       2       2\n",
      "Education Level_Master's          2       2\n",
      "Education Level_PhD               2       2\n",
      "Occupation_Employed               2       2\n",
      "Occupation_Self-Employed          2       2\n",
      "Occupation_Unemployed             2       2\n",
      "Location_Rural                    2       2\n",
      "Location_Suburban                 2       2\n",
      "Location_Urban                    2       2\n",
      "Policy Type_Basic                 2       2\n",
      "Policy Type_Comprehensive         2       2\n",
      "Policy Type_Premium               2       2\n",
      "Exercise Frequency_Daily          2       2\n",
      "Exercise Frequency_Monthly        2       2\n",
      "Exercise Frequency_Rarely         2       2\n",
      "Exercise Frequency_Weekly         2       2\n",
      "Property Type_Apartment           2       2\n",
      "Property Type_Condo               2       2\n",
      "Property Type_House               2       2\n",
      "start month_Apr                   2       2\n",
      "start month_Aug                   2       2\n",
      "start month_Dec                   2       2\n",
      "start month_Feb                   2       2\n",
      "start month_Jan                   2       2\n",
      "start month_Jul                   2       2\n",
      "start month_Jun                   2       2\n",
      "start month_Mar                   2       2\n",
      "start month_May                   2       2\n",
      "start month_Nov                   2       2\n",
      "start month_Oct                   2       2\n",
      "start month_Sep                   2       2\n"
     ]
    }
   ],
   "source": [
    "train_data = pd.read_csv('/kaggle/input/playground-series-s4e12/train.csv')\n",
    "y = train_data['Premium Amount']\n",
    "train_data = train_data.drop(['id', 'Premium Amount'], axis=1)\n",
    "\n",
    "test_data = pd.read_csv('/kaggle/input/playground-series-s4e12/test.csv')\n",
    "test_ids = test_data['id']\n",
    "test_data = test_data.drop(['id'], axis=1)\n",
    "\n",
    "# function to check for NaN values in a specified column\n",
    "def checknan(colname):\n",
    "    return train_data[train_data[colname].isna()]\n",
    "\n",
    "# function to fillna with either mean, median, 0, or another column\n",
    "def fillNaN(colnamelist, type, othercol=None, datasetlist=[train_data, test_data]):\n",
    "    if type == 'mean':\n",
    "        for dataset in datasetlist:\n",
    "            for colname in colnamelist:\n",
    "                dataset.fillna({colname: train_data[colname].mean()}, inplace=True) # Version14: adding test_data to the fillNaN function\n",
    "    elif type == 'median':\n",
    "        for dataset in datasetlist:\n",
    "            for colname in colnamelist:\n",
    "                dataset.fillna({colname: train_data[colname].median()}, inplace=True)\n",
    "    elif type == 'mode':\n",
    "        for dataset in datasetlist:\n",
    "            for colname in colnamelist:\n",
    "                dataset.fillna({colname: train_data[colname].mode()[0]}, inplace=True)\n",
    "    elif type == 0:\n",
    "        for dataset in datasetlist:\n",
    "            for colname in colnamelist:\n",
    "                dataset.fillna({colname: 0}, inplace=True)\n",
    "    elif type == 'othercol':\n",
    "        for dataset in datasetlist:\n",
    "            for colname in colnamelist:\n",
    "                dataset.fillna({colname: train_data[othercol]}, inplace=True)\n",
    "    print(f'fillNaN [{type}] complete')\n",
    "\n",
    "# nan_cols = train_data.columns[train_data.isna().any()]\n",
    "# for col in nan_cols:\n",
    "#     print(f'- {col}')\n",
    "\n",
    "meanfillna = ['Age', 'Number of Dependents', 'Health Score']\n",
    "medianfillna = ['Annual Income', 'Vehicle Age', 'Credit Score', 'Insurance Duration']\n",
    "modefillna = ['Marital Status', 'Occupation', 'Previous Claims', 'Customer Feedback']\n",
    "\n",
    "fillNaN(meanfillna, 'mean') # fillna for columns using mean\n",
    "fillNaN(medianfillna, 'median') # fillna for columns using median\n",
    "fillNaN(modefillna, 'mode') # fillna for columns using mode\n",
    "\n",
    "# processing the values in the 'Policy Start Date', 'Gender', 'Customer Feedback', and 'Smoking Status' columns\n",
    "# starting with 'Policy Start Date'\n",
    "train_data['Policy Start Date'] = pd.to_datetime(train_data['Policy Start Date'])\n",
    "train_data['start year'] = train_data['Policy Start Date'].dt.year\n",
    "train_data['start month'] = train_data['Policy Start Date'].dt.month\n",
    "train_data = train_data.drop(['Policy Start Date'], axis=1)\n",
    "\n",
    "test_data['Policy Start Date'] = pd.to_datetime(test_data['Policy Start Date'])\n",
    "test_data['start year'] = test_data['Policy Start Date'].dt.year\n",
    "test_data['start month'] = test_data['Policy Start Date'].dt.month\n",
    "test_data = test_data.drop(['Policy Start Date'], axis=1)\n",
    "\n",
    "monthmap = {\n",
    "    1: 'Jan',\n",
    "    2: 'Feb',\n",
    "    3: 'Mar',\n",
    "    4: 'Apr',\n",
    "    5: 'May',\n",
    "    6: 'Jun',\n",
    "    7: 'Jul',\n",
    "    8: 'Aug',\n",
    "    9: 'Sep',\n",
    "    10: 'Oct',\n",
    "    11: 'Nov',\n",
    "    12: 'Dec'\n",
    "}\n",
    "\n",
    "train_data['start month'] = train_data['start month'].map(monthmap)\n",
    "test_data['start month'] = test_data['start month'].map(monthmap)\n",
    "\n",
    "# on to 'Gender'\n",
    "gendermap = {'Male': 1, 'Female': 0}\n",
    "train_data['Gender'] = train_data['Gender'].map(gendermap)\n",
    "test_data['Gender'] = test_data['Gender'].map(gendermap)\n",
    "\n",
    "# Customer Feedback\n",
    "feedbackmap = {'Poor': 1, 'Average': 2, 'Good': 3}\n",
    "train_data['Customer Feedback'] = train_data['Customer Feedback'].map(feedbackmap)\n",
    "test_data['Customer Feedback'] = test_data['Customer Feedback'].map(feedbackmap)\n",
    "\n",
    "# Smoking Status\n",
    "smokingmap = {'Yes': 1, 'No': 0}\n",
    "train_data['Smoking Status'] = train_data['Smoking Status'].map(smokingmap)\n",
    "test_data['Smoking Status'] = test_data['Smoking Status'].map(smokingmap)\n",
    "print(len(train_data))\n",
    "print(len(test_data))\n",
    "\n",
    "# prepping data to go into machine learning model\n",
    "from sklearn.model_selection import train_test_split\n",
    "train_data = pd.get_dummies(train_data)\n",
    "test_data = pd.get_dummies(test_data)\n",
    "\n",
    "# converting boolean values to int\n",
    "bool_columns = train_data.select_dtypes(include=['bool']).columns\n",
    "train_data[bool_columns] = train_data[bool_columns].astype(int)\n",
    "test_data[bool_columns] = test_data[bool_columns].astype(int)\n",
    "\n",
    "# splitting train_data into train and mock test data\n",
    "X_train, X_mocktest, y_train, y_mocktest = train_test_split(train_data, y, test_size=0.2, random_state=0)\n",
    "print(len(X_train))\n",
    "\n",
    "print(pd.concat([train_data.nunique(), test_data.nunique()], axis=1))"
   ]
  },
  {
   "cell_type": "markdown",
   "id": "8cfa4fd3",
   "metadata": {
    "papermill": {
     "duration": 0.003769,
     "end_time": "2024-12-14T09:14:10.973330",
     "exception": false,
     "start_time": "2024-12-14T09:14:10.969561",
     "status": "completed"
    },
    "tags": []
   },
   "source": [
    "# 2) Model Configuration"
   ]
  },
  {
   "cell_type": "markdown",
   "id": "9fa0a004",
   "metadata": {
    "papermill": {
     "duration": 0.003694,
     "end_time": "2024-12-14T09:14:10.981035",
     "exception": false,
     "start_time": "2024-12-14T09:14:10.977341",
     "status": "completed"
    },
    "tags": []
   },
   "source": [
    "## 1. Linear Regressor"
   ]
  },
  {
   "cell_type": "code",
   "execution_count": 3,
   "id": "b48414c4",
   "metadata": {
    "execution": {
     "iopub.execute_input": "2024-12-14T09:14:10.990989Z",
     "iopub.status.busy": "2024-12-14T09:14:10.990387Z",
     "iopub.status.idle": "2024-12-14T09:14:10.997545Z",
     "shell.execute_reply": "2024-12-14T09:14:10.996351Z"
    },
    "papermill": {
     "duration": 0.014938,
     "end_time": "2024-12-14T09:14:10.999878",
     "exception": false,
     "start_time": "2024-12-14T09:14:10.984940",
     "status": "completed"
    },
    "tags": []
   },
   "outputs": [],
   "source": [
    "# from sklearn.linear_model import LinearRegression\n",
    "from sklearn.metrics import mean_squared_log_error as msle\n",
    "\n",
    "# lrmodel = LinearRegression()\n",
    "# lrmodel.fit(X_train, y_train)\n",
    "# mockpreds = lrmodel.predict(X_mocktest)\n",
    "\n",
    "def rmsle(actual_y, predicted_y):\n",
    "    return np.sqrt(msle(actual_y, predicted_y))\n",
    "\n",
    "# print(rmsle(y_mocktest, mockpreds))\n",
    "\n",
    "# # # deleting objects after use to prevent ram overload\n",
    "# # del mockpreds, X_train, X_mocktest, y_train, y_mocktest"
   ]
  },
  {
   "cell_type": "markdown",
   "id": "7458c6b1",
   "metadata": {
    "papermill": {
     "duration": 0.003792,
     "end_time": "2024-12-14T09:14:11.007711",
     "exception": false,
     "start_time": "2024-12-14T09:14:11.003919",
     "status": "completed"
    },
    "tags": []
   },
   "source": [
    "## 2. DecisionTreeRegressor"
   ]
  },
  {
   "cell_type": "code",
   "execution_count": 4,
   "id": "0efe6bb3",
   "metadata": {
    "execution": {
     "iopub.execute_input": "2024-12-14T09:14:11.017703Z",
     "iopub.status.busy": "2024-12-14T09:14:11.016844Z",
     "iopub.status.idle": "2024-12-14T09:14:11.021805Z",
     "shell.execute_reply": "2024-12-14T09:14:11.020668Z"
    },
    "papermill": {
     "duration": 0.012353,
     "end_time": "2024-12-14T09:14:11.023986",
     "exception": false,
     "start_time": "2024-12-14T09:14:11.011633",
     "status": "completed"
    },
    "tags": []
   },
   "outputs": [],
   "source": [
    "# from sklearn.tree import DecisionTreeRegressor\n",
    "# dtrmodel = DecisionTreeRegressor(random_state=0)\n",
    "# dtrmodel.fit(X_train, y_train)\n",
    "# mockpreds = dtrmodel.predict(X_mocktest)\n",
    "# print(rmsle(y_mocktest, mockpreds))\n",
    "\n",
    "# # # deleting objects after use to prevent ram overload\n",
    "# # del mockpreds, X_train, X_mocktest, y_train, y_mocktest"
   ]
  },
  {
   "cell_type": "markdown",
   "id": "41ae3f03",
   "metadata": {
    "papermill": {
     "duration": 0.003616,
     "end_time": "2024-12-14T09:14:11.031549",
     "exception": false,
     "start_time": "2024-12-14T09:14:11.027933",
     "status": "completed"
    },
    "tags": []
   },
   "source": [
    "## 3. RandomForestRegressor"
   ]
  },
  {
   "cell_type": "code",
   "execution_count": 5,
   "id": "27c13303",
   "metadata": {
    "execution": {
     "iopub.execute_input": "2024-12-14T09:14:11.042857Z",
     "iopub.status.busy": "2024-12-14T09:14:11.042402Z",
     "iopub.status.idle": "2024-12-14T09:14:11.047359Z",
     "shell.execute_reply": "2024-12-14T09:14:11.046224Z"
    },
    "papermill": {
     "duration": 0.012614,
     "end_time": "2024-12-14T09:14:11.049811",
     "exception": false,
     "start_time": "2024-12-14T09:14:11.037197",
     "status": "completed"
    },
    "tags": []
   },
   "outputs": [],
   "source": [
    "# from sklearn.ensemble import RandomForestRegressor\n",
    "# rfrmodel = RandomForestRegressor(random_state=0)\n",
    "# rfrmodel.fit(X_train, y_train)\n",
    "# mockpreds = rfrmodel.predict(X_mocktest)\n",
    "# print(rmsle(y_mocktest, mockpreds))"
   ]
  },
  {
   "cell_type": "markdown",
   "id": "11d1f4d0",
   "metadata": {
    "papermill": {
     "duration": 0.003558,
     "end_time": "2024-12-14T09:14:11.057270",
     "exception": false,
     "start_time": "2024-12-14T09:14:11.053712",
     "status": "completed"
    },
    "tags": []
   },
   "source": [
    "## 3. Deep Neural Network with TensorFlow "
   ]
  },
  {
   "cell_type": "code",
   "execution_count": 6,
   "id": "d2dafac3",
   "metadata": {
    "execution": {
     "iopub.execute_input": "2024-12-14T09:14:11.066784Z",
     "iopub.status.busy": "2024-12-14T09:14:11.066346Z",
     "iopub.status.idle": "2024-12-14T09:17:27.009915Z",
     "shell.execute_reply": "2024-12-14T09:17:27.008291Z"
    },
    "papermill": {
     "duration": 195.951133,
     "end_time": "2024-12-14T09:17:27.012258",
     "exception": false,
     "start_time": "2024-12-14T09:14:11.061125",
     "status": "completed"
    },
    "tags": []
   },
   "outputs": [
    {
     "name": "stdout",
     "output_type": "stream",
     "text": [
      "Epoch 1/10\n",
      "\u001b[1m7680/7680\u001b[0m \u001b[32m━━━━━━━━━━━━━━━━━━━━\u001b[0m\u001b[37m\u001b[0m \u001b[1m17s\u001b[0m 2ms/step - loss: 2.6394 - val_loss: 1.1865\n",
      "Epoch 2/10\n",
      "\u001b[1m7680/7680\u001b[0m \u001b[32m━━━━━━━━━━━━━━━━━━━━\u001b[0m\u001b[37m\u001b[0m \u001b[1m16s\u001b[0m 2ms/step - loss: 1.1841 - val_loss: 1.1844\n",
      "Epoch 3/10\n",
      "\u001b[1m7680/7680\u001b[0m \u001b[32m━━━━━━━━━━━━━━━━━━━━\u001b[0m\u001b[37m\u001b[0m \u001b[1m17s\u001b[0m 2ms/step - loss: 1.1820 - val_loss: 1.1791\n",
      "Epoch 4/10\n",
      "\u001b[1m7680/7680\u001b[0m \u001b[32m━━━━━━━━━━━━━━━━━━━━\u001b[0m\u001b[37m\u001b[0m \u001b[1m18s\u001b[0m 2ms/step - loss: 1.1768 - val_loss: 1.1772\n",
      "Epoch 5/10\n",
      "\u001b[1m7680/7680\u001b[0m \u001b[32m━━━━━━━━━━━━━━━━━━━━\u001b[0m\u001b[37m\u001b[0m \u001b[1m17s\u001b[0m 2ms/step - loss: 1.1751 - val_loss: 1.1756\n",
      "Epoch 6/10\n",
      "\u001b[1m7680/7680\u001b[0m \u001b[32m━━━━━━━━━━━━━━━━━━━━\u001b[0m\u001b[37m\u001b[0m \u001b[1m17s\u001b[0m 2ms/step - loss: 1.1724 - val_loss: 1.1725\n",
      "Epoch 7/10\n",
      "\u001b[1m7680/7680\u001b[0m \u001b[32m━━━━━━━━━━━━━━━━━━━━\u001b[0m\u001b[37m\u001b[0m \u001b[1m18s\u001b[0m 2ms/step - loss: 1.1691 - val_loss: 1.1702\n",
      "Epoch 8/10\n",
      "\u001b[1m7680/7680\u001b[0m \u001b[32m━━━━━━━━━━━━━━━━━━━━\u001b[0m\u001b[37m\u001b[0m \u001b[1m17s\u001b[0m 2ms/step - loss: 1.1665 - val_loss: 1.1684\n",
      "Epoch 9/10\n",
      "\u001b[1m7680/7680\u001b[0m \u001b[32m━━━━━━━━━━━━━━━━━━━━\u001b[0m\u001b[37m\u001b[0m \u001b[1m20s\u001b[0m 3ms/step - loss: 1.1646 - val_loss: 1.1672\n",
      "Epoch 10/10\n",
      "\u001b[1m7680/7680\u001b[0m \u001b[32m━━━━━━━━━━━━━━━━━━━━\u001b[0m\u001b[37m\u001b[0m \u001b[1m18s\u001b[0m 2ms/step - loss: 1.1631 - val_loss: 1.1664\n",
      "\u001b[1m2400/2400\u001b[0m \u001b[32m━━━━━━━━━━━━━━━━━━━━\u001b[0m\u001b[37m\u001b[0m \u001b[1m3s\u001b[0m 1ms/step - loss: 1.1674\n"
     ]
    },
    {
     "data": {
      "text/plain": [
       "1.1702452898025513"
      ]
     },
     "execution_count": 6,
     "metadata": {},
     "output_type": "execute_result"
    }
   ],
   "source": [
    "import tensorflow as tf\n",
    "from tensorflow import keras\n",
    "from keras.layers import Dense\n",
    "import numpy as np\n",
    "# from tensorflow.keras.initializers import HeNormal\n",
    "\n",
    "# setting constant random_seed, similar to random_state in previous models\n",
    "keras.utils.set_random_seed(0)\n",
    "\n",
    "# Versmaking sequential api model\n",
    "seqmodel = tf.keras.Sequential()\n",
    "# start off small with 3 layers, including the input and output layers\n",
    "seqmodel.add(tf.keras.layers.Input(shape=(47,)))\n",
    "seqmodel.add(tf.keras.layers.Dense(128, activation='relu'))\n",
    "seqmodel.add(tf.keras.layers.Dense(64, activation='relu'))\n",
    "seqmodel.add(tf.keras.layers.Dense(1))\n",
    "seqmodel.compile(\n",
    "    optimizer='adam',\n",
    "    loss='msle'\n",
    "    # metrics=['mae', 'RootMeanSquaredError']\n",
    ")\n",
    "\n",
    "# converting dataframes to arrays\n",
    "X_train = X_train.to_numpy()\n",
    "X_mocktest = X_mocktest.to_numpy()\n",
    "y_train = y_train.to_numpy()\n",
    "y_mocktest = y_mocktest.to_numpy()\n",
    "\n",
    "# Version 28: minmax scaling data\n",
    "from sklearn.preprocessing import MinMaxScaler\n",
    "scaler = MinMaxScaler()\n",
    "X_train = scaler.fit_transform(X_train)\n",
    "X_mocktest = scaler.fit_transform(X_mocktest)\n",
    "\n",
    "# training the model\n",
    "batchsize = 100\n",
    "seqmodel.fit(X_train, y_train, epochs=10, batch_size=batchsize, validation_split=(0.2))\n",
    "seqmodel.evaluate(X_mocktest, y_mocktest, batch_size=batchsize)"
   ]
  },
  {
   "cell_type": "markdown",
   "id": "5883b4d6",
   "metadata": {
    "papermill": {
     "duration": 0.179769,
     "end_time": "2024-12-14T09:17:27.427557",
     "exception": false,
     "start_time": "2024-12-14T09:17:27.247788",
     "status": "completed"
    },
    "tags": []
   },
   "source": [
    "# Submission (for sequential nn)"
   ]
  },
  {
   "cell_type": "code",
   "execution_count": 7,
   "id": "325cfb67",
   "metadata": {
    "execution": {
     "iopub.execute_input": "2024-12-14T09:17:27.776157Z",
     "iopub.status.busy": "2024-12-14T09:17:27.775340Z",
     "iopub.status.idle": "2024-12-14T09:21:40.830696Z",
     "shell.execute_reply": "2024-12-14T09:21:40.829211Z"
    },
    "papermill": {
     "duration": 253.235516,
     "end_time": "2024-12-14T09:21:40.833314",
     "exception": false,
     "start_time": "2024-12-14T09:17:27.597798",
     "status": "completed"
    },
    "tags": []
   },
   "outputs": [
    {
     "name": "stdout",
     "output_type": "stream",
     "text": [
      "Epoch 1/10\n",
      "\u001b[1m12000/12000\u001b[0m \u001b[32m━━━━━━━━━━━━━━━━━━━━\u001b[0m\u001b[37m\u001b[0m \u001b[1m22s\u001b[0m 2ms/step - loss: 1.1639\n",
      "Epoch 2/10\n",
      "\u001b[1m12000/12000\u001b[0m \u001b[32m━━━━━━━━━━━━━━━━━━━━\u001b[0m\u001b[37m\u001b[0m \u001b[1m22s\u001b[0m 2ms/step - loss: 1.1620\n",
      "Epoch 3/10\n",
      "\u001b[1m12000/12000\u001b[0m \u001b[32m━━━━━━━━━━━━━━━━━━━━\u001b[0m\u001b[37m\u001b[0m \u001b[1m22s\u001b[0m 2ms/step - loss: 1.1604\n",
      "Epoch 4/10\n",
      "\u001b[1m12000/12000\u001b[0m \u001b[32m━━━━━━━━━━━━━━━━━━━━\u001b[0m\u001b[37m\u001b[0m \u001b[1m22s\u001b[0m 2ms/step - loss: 1.1587\n",
      "Epoch 5/10\n",
      "\u001b[1m12000/12000\u001b[0m \u001b[32m━━━━━━━━━━━━━━━━━━━━\u001b[0m\u001b[37m\u001b[0m \u001b[1m23s\u001b[0m 2ms/step - loss: 1.1569\n",
      "Epoch 6/10\n",
      "\u001b[1m12000/12000\u001b[0m \u001b[32m━━━━━━━━━━━━━━━━━━━━\u001b[0m\u001b[37m\u001b[0m \u001b[1m25s\u001b[0m 2ms/step - loss: 1.1554\n",
      "Epoch 7/10\n",
      "\u001b[1m12000/12000\u001b[0m \u001b[32m━━━━━━━━━━━━━━━━━━━━\u001b[0m\u001b[37m\u001b[0m \u001b[1m23s\u001b[0m 2ms/step - loss: 1.1543\n",
      "Epoch 8/10\n",
      "\u001b[1m12000/12000\u001b[0m \u001b[32m━━━━━━━━━━━━━━━━━━━━\u001b[0m\u001b[37m\u001b[0m \u001b[1m23s\u001b[0m 2ms/step - loss: 1.1533\n",
      "Epoch 9/10\n",
      "\u001b[1m12000/12000\u001b[0m \u001b[32m━━━━━━━━━━━━━━━━━━━━\u001b[0m\u001b[37m\u001b[0m \u001b[1m24s\u001b[0m 2ms/step - loss: 1.1523\n",
      "Epoch 10/10\n",
      "\u001b[1m12000/12000\u001b[0m \u001b[32m━━━━━━━━━━━━━━━━━━━━\u001b[0m\u001b[37m\u001b[0m \u001b[1m26s\u001b[0m 2ms/step - loss: 1.1517\n",
      "\u001b[1m8000/8000\u001b[0m \u001b[32m━━━━━━━━━━━━━━━━━━━━\u001b[0m\u001b[37m\u001b[0m \u001b[1m13s\u001b[0m 2ms/step\n",
      "             id  Premium Amount\n",
      "0       1200000      625.537720\n",
      "1       1200001      771.380249\n",
      "2       1200002      745.351807\n",
      "3       1200003      742.032593\n",
      "4       1200004      708.969482\n",
      "...         ...             ...\n",
      "799995  1999995      943.625244\n",
      "799996  1999996      358.608917\n",
      "799997  1999997      795.264160\n",
      "799998  1999998      807.535400\n",
      "799999  1999999      745.987549\n",
      "\n",
      "[800000 rows x 2 columns]\n",
      "success yahuu\n"
     ]
    }
   ],
   "source": [
    "# converting training df to np arrays\n",
    "train_data = scaler.fit_transform(train_data)\n",
    "y = y.to_numpy()\n",
    "\n",
    "seqmodel.fit(train_data, y, epochs=10, batch_size=batchsize)\n",
    "\n",
    "# prepping test_data for the model\n",
    "test_data = pd.get_dummies(test_data)\n",
    "test_data = scaler.fit_transform(test_data)\n",
    "preds = seqmodel.predict(test_data, batch_size=batchsize)\n",
    "\n",
    "# creating submission Dataframe\n",
    "preds = preds.flatten()\n",
    "output = pd.DataFrame({'id': test_ids, 'Premium Amount': preds})\n",
    "print(output)\n",
    "output.to_csv('submission.csv', index=False)\n",
    "print('success yahuu')"
   ]
  }
 ],
 "metadata": {
  "kaggle": {
   "accelerator": "none",
   "dataSources": [
    {
     "databundleVersionId": 10305135,
     "sourceId": 84896,
     "sourceType": "competition"
    }
   ],
   "dockerImageVersionId": 30786,
   "isGpuEnabled": false,
   "isInternetEnabled": true,
   "language": "python",
   "sourceType": "notebook"
  },
  "kernelspec": {
   "display_name": "Python 3",
   "language": "python",
   "name": "python3"
  },
  "language_info": {
   "codemirror_mode": {
    "name": "ipython",
    "version": 3
   },
   "file_extension": ".py",
   "mimetype": "text/x-python",
   "name": "python",
   "nbconvert_exporter": "python",
   "pygments_lexer": "ipython3",
   "version": "3.10.14"
  },
  "papermill": {
   "default_parameters": {},
   "duration": 478.96076,
   "end_time": "2024-12-14T09:21:43.936395",
   "environment_variables": {},
   "exception": null,
   "input_path": "__notebook__.ipynb",
   "output_path": "__notebook__.ipynb",
   "parameters": {},
   "start_time": "2024-12-14T09:13:44.975635",
   "version": "2.6.0"
  }
 },
 "nbformat": 4,
 "nbformat_minor": 5
}
