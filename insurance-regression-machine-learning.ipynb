{
 "cells": [
  {
   "cell_type": "code",
   "execution_count": 1,
   "id": "0075c2c9",
   "metadata": {
    "_cell_guid": "b1076dfc-b9ad-4769-8c92-a6c4dae69d19",
    "_uuid": "8f2839f25d086af736a60e9eeb907d3b93b6e0e5",
    "execution": {
     "iopub.execute_input": "2024-12-08T07:18:17.037116Z",
     "iopub.status.busy": "2024-12-08T07:18:17.036494Z",
     "iopub.status.idle": "2024-12-08T07:18:18.035595Z",
     "shell.execute_reply": "2024-12-08T07:18:18.034200Z"
    },
    "papermill": {
     "duration": 1.008187,
     "end_time": "2024-12-08T07:18:18.038047",
     "exception": false,
     "start_time": "2024-12-08T07:18:17.029860",
     "status": "completed"
    },
    "tags": []
   },
   "outputs": [
    {
     "name": "stdout",
     "output_type": "stream",
     "text": [
      "/kaggle/input/playground-series-s4e12/sample_submission.csv\n",
      "/kaggle/input/playground-series-s4e12/train.csv\n",
      "/kaggle/input/playground-series-s4e12/test.csv\n"
     ]
    }
   ],
   "source": [
    "# This Python 3 environment comes with many helpful analytics libraries installed\n",
    "# It is defined by the kaggle/python Docker image: https://github.com/kaggle/docker-python\n",
    "# For example, here's several helpful packages to load\n",
    "\n",
    "import numpy as np # linear algebra\n",
    "import pandas as pd # data processing, CSV file I/O (e.g. pd.read_csv)\n",
    "\n",
    "# Input data files are available in the read-only \"../input/\" directory\n",
    "# For example, running this (by clicking run or pressing Shift+Enter) will list all files under the input directory\n",
    "\n",
    "import os\n",
    "for dirname, _, filenames in os.walk('/kaggle/input'):\n",
    "    for filename in filenames:\n",
    "        print(os.path.join(dirname, filename))\n",
    "\n",
    "# You can write up to 20GB to the current directory (/kaggle/working/) that gets preserved as output when you create a version using \"Save & Run All\" \n",
    "# You can also write temporary files to /kaggle/temp/, but they won't be saved outside of the current session"
   ]
  },
  {
   "cell_type": "markdown",
   "id": "587f05b3",
   "metadata": {
    "papermill": {
     "duration": 0.003411,
     "end_time": "2024-12-08T07:18:18.045844",
     "exception": false,
     "start_time": "2024-12-08T07:18:18.042433",
     "status": "completed"
    },
    "tags": []
   },
   "source": [
    "# 1) Data Cleaning"
   ]
  },
  {
   "cell_type": "markdown",
   "id": "dcb6ba0a",
   "metadata": {
    "papermill": {
     "duration": 0.003274,
     "end_time": "2024-12-08T07:18:18.052753",
     "exception": false,
     "start_time": "2024-12-08T07:18:18.049479",
     "status": "completed"
    },
    "tags": []
   },
   "source": [
    "## configuring training and test data "
   ]
  },
  {
   "cell_type": "code",
   "execution_count": 2,
   "id": "f86b2ed5",
   "metadata": {
    "execution": {
     "iopub.execute_input": "2024-12-08T07:18:18.061836Z",
     "iopub.status.busy": "2024-12-08T07:18:18.061186Z",
     "iopub.status.idle": "2024-12-08T07:18:39.444896Z",
     "shell.execute_reply": "2024-12-08T07:18:39.443606Z"
    },
    "papermill": {
     "duration": 21.391635,
     "end_time": "2024-12-08T07:18:39.447753",
     "exception": false,
     "start_time": "2024-12-08T07:18:18.056118",
     "status": "completed"
    },
    "tags": []
   },
   "outputs": [
    {
     "name": "stdout",
     "output_type": "stream",
     "text": [
      "fillNaN [mean] complete\n",
      "fillNaN [median] complete\n",
      "fillNaN [mode] complete\n",
      "1200000\n",
      "800000\n",
      "          Age  Gender  Annual Income  Number of Dependents  Health Score  \\\n",
      "920871   57.0       1        58090.0              2.009934     19.937223   \n",
      "1037581  64.0       1        19768.0              1.000000     12.836510   \n",
      "841096   38.0       1          617.0              1.000000     41.612676   \n",
      "640872   25.0       0        16155.0              2.009934     16.098472   \n",
      "295534   20.0       1        31028.0              0.000000     20.848113   \n",
      "\n",
      "         Previous Claims  Vehicle Age  Credit Score  Insurance Duration  \\\n",
      "920871               0.0          5.0         469.0                 7.0   \n",
      "1037581              2.0         18.0         335.0                 8.0   \n",
      "841096               0.0         18.0         495.0                 8.0   \n",
      "640872               2.0         12.0         823.0                 2.0   \n",
      "295534               0.0         19.0         748.0                 5.0   \n",
      "\n",
      "         Customer Feedback  ...  start month_Dec  start month_Feb  \\\n",
      "920871                   2  ...            False            False   \n",
      "1037581                  1  ...            False            False   \n",
      "841096                   2  ...            False            False   \n",
      "640872                   2  ...            False            False   \n",
      "295534                   1  ...            False            False   \n",
      "\n",
      "         start month_Jan  start month_Jul  start month_Jun  start month_Mar  \\\n",
      "920871             False            False            False            False   \n",
      "1037581             True            False            False            False   \n",
      "841096             False            False            False            False   \n",
      "640872             False            False            False            False   \n",
      "295534             False            False            False            False   \n",
      "\n",
      "         start month_May  start month_Nov  start month_Oct  start month_Sep  \n",
      "920871             False             True            False            False  \n",
      "1037581            False            False            False            False  \n",
      "841096             False            False            False            False  \n",
      "640872              True            False            False            False  \n",
      "295534             False            False             True            False  \n",
      "\n",
      "[5 rows x 47 columns]\n",
      "720000\n",
      "                                    0         1\n",
      "Age                              48.0      48.0\n",
      "Gender                            2.0       2.0\n",
      "Annual Income                 88593.0   80716.0\n",
      "Number of Dependents              6.0       6.0\n",
      "Health Score                 532658.0  388703.0\n",
      "Previous Claims                  10.0      10.0\n",
      "Vehicle Age                      20.0      20.0\n",
      "Credit Score                    550.0     550.0\n",
      "Insurance Duration                9.0       9.0\n",
      "Customer Feedback                 3.0       3.0\n",
      "Smoking Status                    2.0       2.0\n",
      "start year                        6.0       6.0\n",
      "Marital Status_Divorced           2.0       NaN\n",
      "Marital Status_Married            2.0       NaN\n",
      "Marital Status_Single             2.0       NaN\n",
      "Education Level_Bachelor's        2.0       NaN\n",
      "Education Level_High School       2.0       NaN\n",
      "Education Level_Master's          2.0       NaN\n",
      "Education Level_PhD               2.0       NaN\n",
      "Occupation_Employed               2.0       NaN\n",
      "Occupation_Self-Employed          2.0       NaN\n",
      "Occupation_Unemployed             2.0       NaN\n",
      "Location_Rural                    2.0       NaN\n",
      "Location_Suburban                 2.0       NaN\n",
      "Location_Urban                    2.0       NaN\n",
      "Policy Type_Basic                 2.0       NaN\n",
      "Policy Type_Comprehensive         2.0       NaN\n",
      "Policy Type_Premium               2.0       NaN\n",
      "Exercise Frequency_Daily          2.0       NaN\n",
      "Exercise Frequency_Monthly        2.0       NaN\n",
      "Exercise Frequency_Rarely         2.0       NaN\n",
      "Exercise Frequency_Weekly         2.0       NaN\n",
      "Property Type_Apartment           2.0       NaN\n",
      "Property Type_Condo               2.0       NaN\n",
      "Property Type_House               2.0       NaN\n",
      "start month_Apr                   2.0       NaN\n",
      "start month_Aug                   2.0       NaN\n",
      "start month_Dec                   2.0       NaN\n",
      "start month_Feb                   2.0       NaN\n",
      "start month_Jan                   2.0       NaN\n",
      "start month_Jul                   2.0       NaN\n",
      "start month_Jun                   2.0       NaN\n",
      "start month_Mar                   2.0       NaN\n",
      "start month_May                   2.0       NaN\n",
      "start month_Nov                   2.0       NaN\n",
      "start month_Oct                   2.0       NaN\n",
      "start month_Sep                   2.0       NaN\n",
      "Marital Status                    NaN       3.0\n",
      "Education Level                   NaN       4.0\n",
      "Occupation                        NaN       3.0\n",
      "Location                          NaN       3.0\n",
      "Policy Type                       NaN       3.0\n",
      "Exercise Frequency                NaN       4.0\n",
      "Property Type                     NaN       3.0\n",
      "start month                       NaN      12.0\n"
     ]
    }
   ],
   "source": [
    "train_data = pd.read_csv('/kaggle/input/playground-series-s4e12/train.csv')\n",
    "y = train_data['Premium Amount']\n",
    "train_data = train_data.drop(['id', 'Premium Amount'], axis=1)\n",
    "\n",
    "test_data = pd.read_csv('/kaggle/input/playground-series-s4e12/test.csv')\n",
    "test_ids = test_data['id']\n",
    "test_data = test_data.drop(['id'], axis=1)\n",
    "\n",
    "# function to check for NaN values in a specified column\n",
    "def checknan(colname):\n",
    "    return train_data[train_data[colname].isna()]\n",
    "\n",
    "# function to fillna with either mean, median, 0, or another column\n",
    "def fillNaN(colnamelist, type, othercol=None, datasetlist=[train_data, test_data]):\n",
    "    if type == 'mean':\n",
    "        for dataset in datasetlist:\n",
    "            for colname in colnamelist:\n",
    "                dataset.fillna({colname: train_data[colname].mean()}, inplace=True) # Version14: adding test_data to the fillNaN function\n",
    "    elif type == 'median':\n",
    "        for dataset in datasetlist:\n",
    "            for colname in colnamelist:\n",
    "                dataset.fillna({colname: train_data[colname].median()}, inplace=True)\n",
    "    elif type == 'mode':\n",
    "        for dataset in datasetlist:\n",
    "            for colname in colnamelist:\n",
    "                dataset.fillna({colname: train_data[colname].mode()[0]}, inplace=True)\n",
    "    elif type == 0:\n",
    "        for dataset in datasetlist:\n",
    "            for colname in colnamelist:\n",
    "                dataset.fillna({colname: 0}, inplace=True)\n",
    "    elif type == 'othercol':\n",
    "        for dataset in datasetlist:\n",
    "            for colname in colnamelist:\n",
    "                dataset.fillna({colname: train_data[othercol]}, inplace=True)\n",
    "    print(f'fillNaN [{type}] complete')\n",
    "\n",
    "# nan_cols = train_data.columns[train_data.isna().any()]\n",
    "# for col in nan_cols:\n",
    "#     print(f'- {col}')\n",
    "\n",
    "meanfillna = ['Age', 'Number of Dependents', 'Health Score']\n",
    "medianfillna = ['Annual Income', 'Vehicle Age', 'Credit Score', 'Insurance Duration']\n",
    "modefillna = ['Marital Status', 'Occupation', 'Previous Claims', 'Customer Feedback']\n",
    "\n",
    "fillNaN(meanfillna, 'mean') # fillna for columns using mean\n",
    "fillNaN(medianfillna, 'median') # fillna for columns using median\n",
    "fillNaN(modefillna, 'mode') # fillna for columns using mode\n",
    "\n",
    "# processing the values in the 'Policy Start Date', 'Gender', 'Customer Feedback', and 'Smoking Status' columns\n",
    "# starting with 'Policy Start Date'\n",
    "train_data['Policy Start Date'] = pd.to_datetime(train_data['Policy Start Date'])\n",
    "train_data['start year'] = train_data['Policy Start Date'].dt.year\n",
    "train_data['start month'] = train_data['Policy Start Date'].dt.month\n",
    "train_data = train_data.drop(['Policy Start Date'], axis=1)\n",
    "\n",
    "test_data['Policy Start Date'] = pd.to_datetime(test_data['Policy Start Date'])\n",
    "test_data['start year'] = test_data['Policy Start Date'].dt.year\n",
    "test_data['start month'] = test_data['Policy Start Date'].dt.month\n",
    "test_data = test_data.drop(['Policy Start Date'], axis=1)\n",
    "\n",
    "monthmap = {\n",
    "    1: 'Jan',\n",
    "    2: 'Feb',\n",
    "    3: 'Mar',\n",
    "    4: 'Apr',\n",
    "    5: 'May',\n",
    "    6: 'Jun',\n",
    "    7: 'Jul',\n",
    "    8: 'Aug',\n",
    "    9: 'Sep',\n",
    "    10: 'Oct',\n",
    "    11: 'Nov',\n",
    "    12: 'Dec'\n",
    "}\n",
    "\n",
    "train_data['start month'] = train_data['start month'].map(monthmap)\n",
    "test_data['start month'] = test_data['start month'].map(monthmap)\n",
    "\n",
    "# on to 'Gender'\n",
    "gendermap = {'Male': 1, 'Female': 0}\n",
    "train_data['Gender'] = train_data['Gender'].map(gendermap)\n",
    "test_data['Gender'] = test_data['Gender'].map(gendermap)\n",
    "\n",
    "# Customer Feedback\n",
    "feedbackmap = {'Poor': 1, 'Average': 2, 'Good': 3}\n",
    "train_data['Customer Feedback'] = train_data['Customer Feedback'].map(feedbackmap)\n",
    "test_data['Customer Feedback'] = test_data['Customer Feedback'].map(feedbackmap)\n",
    "\n",
    "# Smoking Status\n",
    "smokingmap = {'Yes': 1, 'No': 0}\n",
    "train_data['Smoking Status'] = train_data['Smoking Status'].map(smokingmap)\n",
    "test_data['Smoking Status'] = test_data['Smoking Status'].map(smokingmap)\n",
    "print(len(train_data))\n",
    "print(len(test_data))\n",
    "\n",
    "# prepping data to go into machine learning model\n",
    "from sklearn.model_selection import train_test_split\n",
    "train_data = pd.get_dummies(train_data)\n",
    "# splitting train_data into train and mock test data\n",
    "X_train, X_mocktest, y_train, y_mocktest = train_test_split(train_data, y, test_size=0.4, random_state=0)\n",
    "print(X_train.head())\n",
    "print(len(X_train))\n",
    "\n",
    "print(pd.concat([train_data.nunique(), test_data.nunique()], axis=1))"
   ]
  },
  {
   "cell_type": "markdown",
   "id": "f0e289ab",
   "metadata": {
    "papermill": {
     "duration": 0.003979,
     "end_time": "2024-12-08T07:18:39.456003",
     "exception": false,
     "start_time": "2024-12-08T07:18:39.452024",
     "status": "completed"
    },
    "tags": []
   },
   "source": [
    "# 2) Model Configuration"
   ]
  },
  {
   "cell_type": "markdown",
   "id": "c6bdca78",
   "metadata": {
    "papermill": {
     "duration": 0.003693,
     "end_time": "2024-12-08T07:18:39.463797",
     "exception": false,
     "start_time": "2024-12-08T07:18:39.460104",
     "status": "completed"
    },
    "tags": []
   },
   "source": [
    "## 1. Linear Regressor"
   ]
  },
  {
   "cell_type": "code",
   "execution_count": 3,
   "id": "b31341f2",
   "metadata": {
    "execution": {
     "iopub.execute_input": "2024-12-08T07:18:39.475426Z",
     "iopub.status.busy": "2024-12-08T07:18:39.474420Z",
     "iopub.status.idle": "2024-12-08T07:18:39.480488Z",
     "shell.execute_reply": "2024-12-08T07:18:39.479410Z"
    },
    "papermill": {
     "duration": 0.014824,
     "end_time": "2024-12-08T07:18:39.482770",
     "exception": false,
     "start_time": "2024-12-08T07:18:39.467946",
     "status": "completed"
    },
    "tags": []
   },
   "outputs": [],
   "source": [
    "# from sklearn.linear_model import LinearRegression\n",
    "from sklearn.metrics import mean_squared_log_error as msle\n",
    "\n",
    "# lrmodel = LinearRegression()\n",
    "# lrmodel.fit(X_train, y_train)\n",
    "# mockpreds = lrmodel.predict(X_mocktest)\n",
    "\n",
    "def rmsle(actual_y, predicted_y):\n",
    "    return np.sqrt(msle(actual_y, predicted_y))\n",
    "\n",
    "# print(rmsle(y_mocktest, mockpreds))\n",
    "\n",
    "# # # deleting objects after use to prevent ram overload\n",
    "# # del mockpreds, X_train, X_mocktest, y_train, y_mocktest"
   ]
  },
  {
   "cell_type": "markdown",
   "id": "02c87ca6",
   "metadata": {
    "papermill": {
     "duration": 0.003834,
     "end_time": "2024-12-08T07:18:39.490893",
     "exception": false,
     "start_time": "2024-12-08T07:18:39.487059",
     "status": "completed"
    },
    "tags": []
   },
   "source": [
    "## 2. DecisionTreeRegressor"
   ]
  },
  {
   "cell_type": "code",
   "execution_count": 4,
   "id": "46853e7d",
   "metadata": {
    "execution": {
     "iopub.execute_input": "2024-12-08T07:18:39.500836Z",
     "iopub.status.busy": "2024-12-08T07:18:39.500383Z",
     "iopub.status.idle": "2024-12-08T07:18:39.505200Z",
     "shell.execute_reply": "2024-12-08T07:18:39.504130Z"
    },
    "papermill": {
     "duration": 0.012462,
     "end_time": "2024-12-08T07:18:39.507365",
     "exception": false,
     "start_time": "2024-12-08T07:18:39.494903",
     "status": "completed"
    },
    "tags": []
   },
   "outputs": [],
   "source": [
    "# from sklearn.tree import DecisionTreeRegressor\n",
    "# dtrmodel = DecisionTreeRegressor(random_state=0)\n",
    "# dtrmodel.fit(X_train, y_train)\n",
    "# mockpreds = dtrmodel.predict(X_mocktest)\n",
    "# print(rmsle(y_mocktest, mockpreds))\n",
    "\n",
    "# # # deleting objects after use to prevent ram overload\n",
    "# # del mockpreds, X_train, X_mocktest, y_train, y_mocktest"
   ]
  },
  {
   "cell_type": "markdown",
   "id": "34e1d218",
   "metadata": {
    "papermill": {
     "duration": 0.003897,
     "end_time": "2024-12-08T07:18:39.515372",
     "exception": false,
     "start_time": "2024-12-08T07:18:39.511475",
     "status": "completed"
    },
    "tags": []
   },
   "source": [
    "## 3. RandomForestRegressor"
   ]
  },
  {
   "cell_type": "code",
   "execution_count": 5,
   "id": "b6ea3585",
   "metadata": {
    "execution": {
     "iopub.execute_input": "2024-12-08T07:18:39.526444Z",
     "iopub.status.busy": "2024-12-08T07:18:39.525975Z",
     "iopub.status.idle": "2024-12-08T07:48:07.439395Z",
     "shell.execute_reply": "2024-12-08T07:48:07.438100Z"
    },
    "papermill": {
     "duration": 1767.92613,
     "end_time": "2024-12-08T07:48:07.446690",
     "exception": false,
     "start_time": "2024-12-08T07:18:39.520560",
     "status": "completed"
    },
    "tags": []
   },
   "outputs": [
    {
     "name": "stdout",
     "output_type": "stream",
     "text": [
      "1.1591917683705262\n"
     ]
    }
   ],
   "source": [
    "from sklearn.ensemble import RandomForestRegressor\n",
    "rfrmodel = RandomForestRegressor(random_state=0)\n",
    "rfrmodel.fit(X_train, y_train)\n",
    "mockpreds = rfrmodel.predict(X_mocktest)\n",
    "print(rmsle(y_mocktest, mockpreds))"
   ]
  },
  {
   "cell_type": "markdown",
   "id": "997ef928",
   "metadata": {
    "papermill": {
     "duration": 0.003852,
     "end_time": "2024-12-08T07:48:07.454749",
     "exception": false,
     "start_time": "2024-12-08T07:48:07.450897",
     "status": "completed"
    },
    "tags": []
   },
   "source": [
    "## 3. Deep Neural Network with TensorFlow (tbc)"
   ]
  },
  {
   "cell_type": "code",
   "execution_count": 6,
   "id": "177a8246",
   "metadata": {
    "execution": {
     "iopub.execute_input": "2024-12-08T07:48:07.465008Z",
     "iopub.status.busy": "2024-12-08T07:48:07.464493Z",
     "iopub.status.idle": "2024-12-08T07:48:22.209069Z",
     "shell.execute_reply": "2024-12-08T07:48:22.207858Z"
    },
    "papermill": {
     "duration": 14.753023,
     "end_time": "2024-12-08T07:48:22.211943",
     "exception": false,
     "start_time": "2024-12-08T07:48:07.458920",
     "status": "completed"
    },
    "tags": []
   },
   "outputs": [],
   "source": [
    "import tensorflow as tf"
   ]
  },
  {
   "cell_type": "markdown",
   "id": "ef798ad4",
   "metadata": {
    "papermill": {
     "duration": 0.003838,
     "end_time": "2024-12-08T07:48:22.220135",
     "exception": false,
     "start_time": "2024-12-08T07:48:22.216297",
     "status": "completed"
    },
    "tags": []
   },
   "source": [
    "# Submission"
   ]
  },
  {
   "cell_type": "code",
   "execution_count": 7,
   "id": "e732d8b4",
   "metadata": {
    "execution": {
     "iopub.execute_input": "2024-12-08T07:48:22.230674Z",
     "iopub.status.busy": "2024-12-08T07:48:22.229853Z",
     "iopub.status.idle": "2024-12-08T08:39:59.196199Z",
     "shell.execute_reply": "2024-12-08T08:39:59.194131Z"
    },
    "papermill": {
     "duration": 3096.975559,
     "end_time": "2024-12-08T08:39:59.199703",
     "exception": false,
     "start_time": "2024-12-08T07:48:22.224144",
     "status": "completed"
    },
    "tags": []
   },
   "outputs": [
    {
     "name": "stdout",
     "output_type": "stream",
     "text": [
      "             id  Premium Amount\n",
      "0       1200000         1404.55\n",
      "1       1200001         1237.95\n",
      "2       1200002         1049.25\n",
      "3       1200003         1228.26\n",
      "4       1200004         1086.37\n",
      "...         ...             ...\n",
      "799995  1999995         1120.05\n",
      "799996  1999996         1561.74\n",
      "799997  1999997         1262.23\n",
      "799998  1999998         1241.01\n",
      "799999  1999999          951.01\n",
      "\n",
      "[800000 rows x 2 columns]\n",
      "success yahuu\n"
     ]
    }
   ],
   "source": [
    "rfrmodel.fit(train_data, y)\n",
    "# prepping test_data for the model\n",
    "test_data = pd.get_dummies(test_data)\n",
    "preds = rfrmodel.predict(test_data)\n",
    "\n",
    "# creating submission Dataframe\n",
    "output = pd.DataFrame({'id': test_ids, 'Premium Amount': preds})\n",
    "print(output)\n",
    "output.to_csv('submission.csv', index=False)\n",
    "print('success yahuu')"
   ]
  }
 ],
 "metadata": {
  "kaggle": {
   "accelerator": "none",
   "dataSources": [
    {
     "databundleVersionId": 10305135,
     "sourceId": 84896,
     "sourceType": "competition"
    }
   ],
   "dockerImageVersionId": 30786,
   "isGpuEnabled": false,
   "isInternetEnabled": true,
   "language": "python",
   "sourceType": "notebook"
  },
  "kernelspec": {
   "display_name": "Python 3",
   "language": "python",
   "name": "python3"
  },
  "language_info": {
   "codemirror_mode": {
    "name": "ipython",
    "version": 3
   },
   "file_extension": ".py",
   "mimetype": "text/x-python",
   "name": "python",
   "nbconvert_exporter": "python",
   "pygments_lexer": "ipython3",
   "version": "3.10.14"
  },
  "papermill": {
   "default_parameters": {},
   "duration": 4907.947034,
   "end_time": "2024-12-08T08:40:01.927689",
   "environment_variables": {},
   "exception": null,
   "input_path": "__notebook__.ipynb",
   "output_path": "__notebook__.ipynb",
   "parameters": {},
   "start_time": "2024-12-08T07:18:13.980655",
   "version": "2.6.0"
  }
 },
 "nbformat": 4,
 "nbformat_minor": 5
}
