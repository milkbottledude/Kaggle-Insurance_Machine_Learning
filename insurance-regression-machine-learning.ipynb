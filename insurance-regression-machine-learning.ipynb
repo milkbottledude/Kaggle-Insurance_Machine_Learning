{
 "cells": [
  {
   "cell_type": "code",
   "execution_count": 1,
   "id": "771c9745",
   "metadata": {
    "_cell_guid": "b1076dfc-b9ad-4769-8c92-a6c4dae69d19",
    "_uuid": "8f2839f25d086af736a60e9eeb907d3b93b6e0e5",
    "execution": {
     "iopub.execute_input": "2024-12-07T09:07:59.324261Z",
     "iopub.status.busy": "2024-12-07T09:07:59.323861Z",
     "iopub.status.idle": "2024-12-07T09:08:00.162083Z",
     "shell.execute_reply": "2024-12-07T09:08:00.160995Z"
    },
    "papermill": {
     "duration": 0.844885,
     "end_time": "2024-12-07T09:08:00.164538",
     "exception": false,
     "start_time": "2024-12-07T09:07:59.319653",
     "status": "completed"
    },
    "tags": []
   },
   "outputs": [
    {
     "name": "stdout",
     "output_type": "stream",
     "text": [
      "/kaggle/input/playground-series-s4e12/sample_submission.csv\n",
      "/kaggle/input/playground-series-s4e12/train.csv\n",
      "/kaggle/input/playground-series-s4e12/test.csv\n"
     ]
    }
   ],
   "source": [
    "# This Python 3 environment comes with many helpful analytics libraries installed\n",
    "# It is defined by the kaggle/python Docker image: https://github.com/kaggle/docker-python\n",
    "# For example, here's several helpful packages to load\n",
    "\n",
    "import numpy as np # linear algebra\n",
    "import pandas as pd # data processing, CSV file I/O (e.g. pd.read_csv)\n",
    "\n",
    "# Input data files are available in the read-only \"../input/\" directory\n",
    "# For example, running this (by clicking run or pressing Shift+Enter) will list all files under the input directory\n",
    "\n",
    "import os\n",
    "for dirname, _, filenames in os.walk('/kaggle/input'):\n",
    "    for filename in filenames:\n",
    "        print(os.path.join(dirname, filename))\n",
    "\n",
    "# You can write up to 20GB to the current directory (/kaggle/working/) that gets preserved as output when you create a version using \"Save & Run All\" \n",
    "# You can also write temporary files to /kaggle/temp/, but they won't be saved outside of the current session"
   ]
  },
  {
   "cell_type": "markdown",
   "id": "db4fee5b",
   "metadata": {
    "papermill": {
     "duration": 0.001989,
     "end_time": "2024-12-07T09:08:00.169716",
     "exception": false,
     "start_time": "2024-12-07T09:08:00.167727",
     "status": "completed"
    },
    "tags": []
   },
   "source": [
    "# 1) Data Cleaning"
   ]
  },
  {
   "cell_type": "markdown",
   "id": "f8978dbf",
   "metadata": {
    "papermill": {
     "duration": 0.001853,
     "end_time": "2024-12-07T09:08:00.173719",
     "exception": false,
     "start_time": "2024-12-07T09:08:00.171866",
     "status": "completed"
    },
    "tags": []
   },
   "source": [
    "## configuring training and test data "
   ]
  },
  {
   "cell_type": "code",
   "execution_count": 2,
   "id": "103a9a2a",
   "metadata": {
    "execution": {
     "iopub.execute_input": "2024-12-07T09:08:00.179651Z",
     "iopub.status.busy": "2024-12-07T09:08:00.179150Z",
     "iopub.status.idle": "2024-12-07T09:08:13.098474Z",
     "shell.execute_reply": "2024-12-07T09:08:13.097554Z"
    },
    "papermill": {
     "duration": 12.924972,
     "end_time": "2024-12-07T09:08:13.100748",
     "exception": false,
     "start_time": "2024-12-07T09:08:00.175776",
     "status": "completed"
    },
    "tags": []
   },
   "outputs": [
    {
     "name": "stdout",
     "output_type": "stream",
     "text": [
      "fillNaN [mean] complete\n",
      "fillNaN [median] complete\n",
      "fillNaN [mode] complete\n",
      "fillNaN [mean] complete\n",
      "fillNaN [mode] complete\n",
      "fillNaN [mean] complete\n",
      "fillNaN [mode] complete\n",
      "fillNaN [median] complete\n",
      "fillNaN [median] complete\n",
      "fillNaN [median] complete\n",
      "fillNaN [mode] complete\n",
      "    Age  Gender  Annual Income Marital Status  Number of Dependents  \\\n",
      "0  19.0  Female        10049.0        Married                   1.0   \n",
      "1  39.0  Female        31678.0       Divorced                   3.0   \n",
      "2  23.0    Male        25602.0       Divorced                   3.0   \n",
      "3  21.0    Male       141855.0        Married                   2.0   \n",
      "4  21.0    Male        39651.0         Single                   1.0   \n",
      "\n",
      "  Education Level     Occupation  Health Score  Location    Policy Type  \\\n",
      "0      Bachelor's  Self-Employed     22.598761     Urban        Premium   \n",
      "1        Master's       Employed     15.569731     Rural  Comprehensive   \n",
      "2     High School  Self-Employed     47.177549  Suburban        Premium   \n",
      "3      Bachelor's       Employed     10.938144     Rural          Basic   \n",
      "4      Bachelor's  Self-Employed     20.376094     Rural        Premium   \n",
      "\n",
      "   Previous Claims  Vehicle Age  Credit Score  Insurance Duration  \\\n",
      "0              2.0         17.0         372.0                 5.0   \n",
      "1              1.0         12.0         694.0                 2.0   \n",
      "2              1.0         14.0         595.0                 3.0   \n",
      "3              1.0          0.0         367.0                 1.0   \n",
      "4              0.0          8.0         598.0                 4.0   \n",
      "\n",
      "  Customer Feedback Smoking Status Exercise Frequency Property Type  \\\n",
      "0              Poor             No             Weekly         House   \n",
      "1           Average            Yes            Monthly         House   \n",
      "2              Good            Yes             Weekly         House   \n",
      "3              Poor            Yes              Daily     Apartment   \n",
      "4              Poor            Yes             Weekly         House   \n",
      "\n",
      "   start year  start month  \n",
      "0        2023           12  \n",
      "1        2023            6  \n",
      "2        2023            9  \n",
      "3        2024            6  \n",
      "4        2021           12  \n"
     ]
    }
   ],
   "source": [
    "train_data = pd.read_csv('/kaggle/input/playground-series-s4e12/train.csv')\n",
    "y = train_data['Premium Amount']\n",
    "train_data = train_data.drop(['id', 'Premium Amount'], axis=1)\n",
    "\n",
    "test_data = pd.read_csv('/kaggle/input/playground-series-s4e12/test.csv')\n",
    "test_ids = test_data['id']\n",
    "test_data = test_data.drop(['id'], axis=1)\n",
    "\n",
    "# function to check for NaN values in a specified column\n",
    "def checknan(colname):\n",
    "    return train_data[train_data[colname].isna()]\n",
    "\n",
    "# function to fillna with either mean, median, 0, or another column\n",
    "def fillNaN(colnamelist, type, othercol=None, datasetlist=[train_data, test_data]):\n",
    "    if type == 'mean':\n",
    "        for dataset in datasetlist:\n",
    "            for colname in colnamelist:\n",
    "                dataset.fillna({colname: train_data[colname].mean()}, inplace=True) # Version14: adding test_data to the fillNaN function\n",
    "    elif type == 'median':\n",
    "        for dataset in datasetlist:\n",
    "            for colname in colnamelist:\n",
    "                dataset.fillna({colname: train_data[colname].median()}, inplace=True)\n",
    "    elif type == 'mode':\n",
    "        for dataset in datasetlist:\n",
    "            for colname in colnamelist:\n",
    "                dataset.fillna({colname: train_data[colname].mode()[0]}, inplace=True)\n",
    "    elif type == 0:\n",
    "        for dataset in datasetlist:\n",
    "            for colname in colnamelist:\n",
    "                dataset.fillna({colname: 0}, inplace=True)\n",
    "    elif type == 'othercol':\n",
    "        for dataset in datasetlist:\n",
    "            for colname in colnamelist:\n",
    "                dataset.fillna({colname: train_data[othercol]}, inplace=True)\n",
    "    print(f'fillNaN [{type}] complete')\n",
    "\n",
    "# nan_cols = train_data.columns[train_data.isna().any()]\n",
    "# for col in nan_cols:\n",
    "#     print(f'- {col}')\n",
    "\n",
    "# fillna for column: Age\n",
    "fillNaN(['Age'], 'mean')\n",
    "# fillna for column: Annual Income\n",
    "fillNaN(['Annual Income'], 'median')\n",
    "# fillna for column: Marital Status\n",
    "fillNaN(['Marital Status'], 'mode')\n",
    "# fillna for column: Number of Dependents\n",
    "fillNaN(['Number of Dependents'], 'mean')\n",
    "# fillna for column: Occupation\n",
    "fillNaN(['Occupation'], 'mode')\n",
    "# fillna for column: Health Score\n",
    "fillNaN(['Health Score'], 'mean')\n",
    "# fillna for column: Previous Claims\n",
    "fillNaN(['Previous Claims'], 'mode')\n",
    "# fillna for column: Vehicle Age\n",
    "fillNaN(['Vehicle Age'], 'median')\n",
    "# fillna for column: Credit Score\n",
    "fillNaN(['Credit Score'], 'median')\n",
    "# fillna for column: Insurance Duration\n",
    "fillNaN(['Insurance Duration'], 'median')\n",
    "# fillna for column: Customer Feedback\n",
    "fillNaN(['Customer Feedback'], 'mode')\n",
    "\n",
    "# processing the values in the 'Policy Start Date', 'Gender', 'Customer Feedback', and 'Smoking Status' columns\n",
    "# starting with 'Policy Start Date'\n",
    "train_data['Policy Start Date'] = pd.to_datetime(train_data['Policy Start Date'])\n",
    "train_data['start year'] = train_data['Policy Start Date'].dt.year\n",
    "train_data['start month'] = train_data['Policy Start Date'].dt.month\n",
    "train_data = train_data.drop(['Policy Start Date'], axis=1)\n",
    "print(train_data.head())\n",
    "# on to 'Gender'\n",
    "gendermap = {'Male': 1, 'Female': 0}\n",
    "train_data['Gender'] = train_data['Gender'].map(gendermap)\n",
    "# Customer Feedback\n",
    "feedbackmap = {'Poor': 1, 'Average': 2, 'Good': 3}\n",
    "train_data['Customer Feedback'] = train_data['Customer Feedback'].map(feedbackmap)\n",
    "# Smoking Status\n",
    "smokingmap = {'Yes': 1, 'No': 0}\n",
    "train_data['Smoking Status'] = train_data['Smoking Status'].map(smokingmap)\n",
    "\n",
    "\n"
   ]
  },
  {
   "cell_type": "markdown",
   "id": "36cf44fa",
   "metadata": {
    "papermill": {
     "duration": 0.00251,
     "end_time": "2024-12-07T09:08:13.106154",
     "exception": false,
     "start_time": "2024-12-07T09:08:13.103644",
     "status": "completed"
    },
    "tags": []
   },
   "source": [
    "# 2) Model Configuration"
   ]
  },
  {
   "cell_type": "markdown",
   "id": "5d6fd353",
   "metadata": {
    "papermill": {
     "duration": 0.002306,
     "end_time": "2024-12-07T09:08:13.110976",
     "exception": false,
     "start_time": "2024-12-07T09:08:13.108670",
     "status": "completed"
    },
    "tags": []
   },
   "source": [
    "## RandomForestRegressor"
   ]
  },
  {
   "cell_type": "code",
   "execution_count": 3,
   "id": "3bb83e1e",
   "metadata": {
    "execution": {
     "iopub.execute_input": "2024-12-07T09:08:13.117679Z",
     "iopub.status.busy": "2024-12-07T09:08:13.117317Z",
     "iopub.status.idle": "2024-12-07T09:08:14.775251Z",
     "shell.execute_reply": "2024-12-07T09:08:14.774122Z"
    },
    "papermill": {
     "duration": 1.664225,
     "end_time": "2024-12-07T09:08:14.777730",
     "exception": false,
     "start_time": "2024-12-07T09:08:13.113505",
     "status": "completed"
    },
    "tags": []
   },
   "outputs": [],
   "source": [
    "from sklearn.ensemble import RandomForestRegressor\n",
    "from sklearn.metrics import r2_score\n",
    "\n",
    "rfrmodel = RandomForestRegressor"
   ]
  }
 ],
 "metadata": {
  "kaggle": {
   "accelerator": "none",
   "dataSources": [
    {
     "databundleVersionId": 10305135,
     "sourceId": 84896,
     "sourceType": "competition"
    }
   ],
   "dockerImageVersionId": 30786,
   "isGpuEnabled": false,
   "isInternetEnabled": true,
   "language": "python",
   "sourceType": "notebook"
  },
  "kernelspec": {
   "display_name": "Python 3",
   "language": "python",
   "name": "python3"
  },
  "language_info": {
   "codemirror_mode": {
    "name": "ipython",
    "version": 3
   },
   "file_extension": ".py",
   "mimetype": "text/x-python",
   "name": "python",
   "nbconvert_exporter": "python",
   "pygments_lexer": "ipython3",
   "version": "3.10.14"
  },
  "papermill": {
   "default_parameters": {},
   "duration": 18.754452,
   "end_time": "2024-12-07T09:08:15.500940",
   "environment_variables": {},
   "exception": null,
   "input_path": "__notebook__.ipynb",
   "output_path": "__notebook__.ipynb",
   "parameters": {},
   "start_time": "2024-12-07T09:07:56.746488",
   "version": "2.6.0"
  }
 },
 "nbformat": 4,
 "nbformat_minor": 5
}
