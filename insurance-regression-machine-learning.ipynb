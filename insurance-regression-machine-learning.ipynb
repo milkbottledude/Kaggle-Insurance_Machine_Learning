{
 "cells": [
  {
   "cell_type": "code",
   "execution_count": 1,
   "id": "70c5ac71",
   "metadata": {
    "_cell_guid": "b1076dfc-b9ad-4769-8c92-a6c4dae69d19",
    "_uuid": "8f2839f25d086af736a60e9eeb907d3b93b6e0e5",
    "execution": {
     "iopub.execute_input": "2024-12-12T06:32:10.146779Z",
     "iopub.status.busy": "2024-12-12T06:32:10.146396Z",
     "iopub.status.idle": "2024-12-12T06:32:11.175792Z",
     "shell.execute_reply": "2024-12-12T06:32:11.174393Z"
    },
    "papermill": {
     "duration": 1.037405,
     "end_time": "2024-12-12T06:32:11.178329",
     "exception": false,
     "start_time": "2024-12-12T06:32:10.140924",
     "status": "completed"
    },
    "tags": []
   },
   "outputs": [
    {
     "name": "stdout",
     "output_type": "stream",
     "text": [
      "/kaggle/input/playground-series-s4e12/sample_submission.csv\n",
      "/kaggle/input/playground-series-s4e12/train.csv\n",
      "/kaggle/input/playground-series-s4e12/test.csv\n"
     ]
    }
   ],
   "source": [
    "# This Python 3 environment comes with many helpful analytics libraries installed\n",
    "# It is defined by the kaggle/python Docker image: https://github.com/kaggle/docker-python\n",
    "# For example, here's several helpful packages to load\n",
    "\n",
    "import numpy as np # linear algebra\n",
    "import pandas as pd # data processing, CSV file I/O (e.g. pd.read_csv)\n",
    "\n",
    "# Input data files are available in the read-only \"../input/\" directory\n",
    "# For example, running this (by clicking run or pressing Shift+Enter) will list all files under the input directory\n",
    "\n",
    "import os\n",
    "for dirname, _, filenames in os.walk('/kaggle/input'):\n",
    "    for filename in filenames:\n",
    "        print(os.path.join(dirname, filename))\n",
    "\n",
    "# You can write up to 20GB to the current directory (/kaggle/working/) that gets preserved as output when you create a version using \"Save & Run All\" \n",
    "# You can also write temporary files to /kaggle/temp/, but they won't be saved outside of the current session"
   ]
  },
  {
   "cell_type": "markdown",
   "id": "30abe62a",
   "metadata": {
    "papermill": {
     "duration": 0.003294,
     "end_time": "2024-12-12T06:32:11.185695",
     "exception": false,
     "start_time": "2024-12-12T06:32:11.182401",
     "status": "completed"
    },
    "tags": []
   },
   "source": [
    "# 1) Data Cleaning"
   ]
  },
  {
   "cell_type": "markdown",
   "id": "73414e43",
   "metadata": {
    "papermill": {
     "duration": 0.003275,
     "end_time": "2024-12-12T06:32:11.192459",
     "exception": false,
     "start_time": "2024-12-12T06:32:11.189184",
     "status": "completed"
    },
    "tags": []
   },
   "source": [
    "## configuring training and test data "
   ]
  },
  {
   "cell_type": "code",
   "execution_count": 2,
   "id": "10dddcd3",
   "metadata": {
    "execution": {
     "iopub.execute_input": "2024-12-12T06:32:11.201566Z",
     "iopub.status.busy": "2024-12-12T06:32:11.201016Z",
     "iopub.status.idle": "2024-12-12T06:32:31.730269Z",
     "shell.execute_reply": "2024-12-12T06:32:31.727773Z"
    },
    "papermill": {
     "duration": 20.536695,
     "end_time": "2024-12-12T06:32:31.732686",
     "exception": false,
     "start_time": "2024-12-12T06:32:11.195991",
     "status": "completed"
    },
    "tags": []
   },
   "outputs": [
    {
     "name": "stdout",
     "output_type": "stream",
     "text": [
      "fillNaN [mean] complete\n",
      "fillNaN [median] complete\n",
      "fillNaN [mode] complete\n",
      "1200000\n",
      "800000\n",
      "960000\n",
      "                                  0       1\n",
      "Age                              48      48\n",
      "Gender                            2       2\n",
      "Annual Income                 88593   80716\n",
      "Number of Dependents              6       6\n",
      "Health Score                 532658  388703\n",
      "Previous Claims                  10      10\n",
      "Vehicle Age                      20      20\n",
      "Credit Score                    550     550\n",
      "Insurance Duration                9       9\n",
      "Customer Feedback                 3       3\n",
      "Smoking Status                    2       2\n",
      "start year                        6       6\n",
      "Marital Status_Divorced           2       2\n",
      "Marital Status_Married            2       2\n",
      "Marital Status_Single             2       2\n",
      "Education Level_Bachelor's        2       2\n",
      "Education Level_High School       2       2\n",
      "Education Level_Master's          2       2\n",
      "Education Level_PhD               2       2\n",
      "Occupation_Employed               2       2\n",
      "Occupation_Self-Employed          2       2\n",
      "Occupation_Unemployed             2       2\n",
      "Location_Rural                    2       2\n",
      "Location_Suburban                 2       2\n",
      "Location_Urban                    2       2\n",
      "Policy Type_Basic                 2       2\n",
      "Policy Type_Comprehensive         2       2\n",
      "Policy Type_Premium               2       2\n",
      "Exercise Frequency_Daily          2       2\n",
      "Exercise Frequency_Monthly        2       2\n",
      "Exercise Frequency_Rarely         2       2\n",
      "Exercise Frequency_Weekly         2       2\n",
      "Property Type_Apartment           2       2\n",
      "Property Type_Condo               2       2\n",
      "Property Type_House               2       2\n",
      "start month_Apr                   2       2\n",
      "start month_Aug                   2       2\n",
      "start month_Dec                   2       2\n",
      "start month_Feb                   2       2\n",
      "start month_Jan                   2       2\n",
      "start month_Jul                   2       2\n",
      "start month_Jun                   2       2\n",
      "start month_Mar                   2       2\n",
      "start month_May                   2       2\n",
      "start month_Nov                   2       2\n",
      "start month_Oct                   2       2\n",
      "start month_Sep                   2       2\n"
     ]
    }
   ],
   "source": [
    "train_data = pd.read_csv('/kaggle/input/playground-series-s4e12/train.csv')\n",
    "y = train_data['Premium Amount']\n",
    "train_data = train_data.drop(['id', 'Premium Amount'], axis=1)\n",
    "\n",
    "test_data = pd.read_csv('/kaggle/input/playground-series-s4e12/test.csv')\n",
    "test_ids = test_data['id']\n",
    "test_data = test_data.drop(['id'], axis=1)\n",
    "\n",
    "# function to check for NaN values in a specified column\n",
    "def checknan(colname):\n",
    "    return train_data[train_data[colname].isna()]\n",
    "\n",
    "# function to fillna with either mean, median, 0, or another column\n",
    "def fillNaN(colnamelist, type, othercol=None, datasetlist=[train_data, test_data]):\n",
    "    if type == 'mean':\n",
    "        for dataset in datasetlist:\n",
    "            for colname in colnamelist:\n",
    "                dataset.fillna({colname: train_data[colname].mean()}, inplace=True) # Version14: adding test_data to the fillNaN function\n",
    "    elif type == 'median':\n",
    "        for dataset in datasetlist:\n",
    "            for colname in colnamelist:\n",
    "                dataset.fillna({colname: train_data[colname].median()}, inplace=True)\n",
    "    elif type == 'mode':\n",
    "        for dataset in datasetlist:\n",
    "            for colname in colnamelist:\n",
    "                dataset.fillna({colname: train_data[colname].mode()[0]}, inplace=True)\n",
    "    elif type == 0:\n",
    "        for dataset in datasetlist:\n",
    "            for colname in colnamelist:\n",
    "                dataset.fillna({colname: 0}, inplace=True)\n",
    "    elif type == 'othercol':\n",
    "        for dataset in datasetlist:\n",
    "            for colname in colnamelist:\n",
    "                dataset.fillna({colname: train_data[othercol]}, inplace=True)\n",
    "    print(f'fillNaN [{type}] complete')\n",
    "\n",
    "# nan_cols = train_data.columns[train_data.isna().any()]\n",
    "# for col in nan_cols:\n",
    "#     print(f'- {col}')\n",
    "\n",
    "meanfillna = ['Age', 'Number of Dependents', 'Health Score']\n",
    "medianfillna = ['Annual Income', 'Vehicle Age', 'Credit Score', 'Insurance Duration']\n",
    "modefillna = ['Marital Status', 'Occupation', 'Previous Claims', 'Customer Feedback']\n",
    "\n",
    "fillNaN(meanfillna, 'mean') # fillna for columns using mean\n",
    "fillNaN(medianfillna, 'median') # fillna for columns using median\n",
    "fillNaN(modefillna, 'mode') # fillna for columns using mode\n",
    "\n",
    "# processing the values in the 'Policy Start Date', 'Gender', 'Customer Feedback', and 'Smoking Status' columns\n",
    "# starting with 'Policy Start Date'\n",
    "train_data['Policy Start Date'] = pd.to_datetime(train_data['Policy Start Date'])\n",
    "train_data['start year'] = train_data['Policy Start Date'].dt.year\n",
    "train_data['start month'] = train_data['Policy Start Date'].dt.month\n",
    "train_data = train_data.drop(['Policy Start Date'], axis=1)\n",
    "\n",
    "test_data['Policy Start Date'] = pd.to_datetime(test_data['Policy Start Date'])\n",
    "test_data['start year'] = test_data['Policy Start Date'].dt.year\n",
    "test_data['start month'] = test_data['Policy Start Date'].dt.month\n",
    "test_data = test_data.drop(['Policy Start Date'], axis=1)\n",
    "\n",
    "monthmap = {\n",
    "    1: 'Jan',\n",
    "    2: 'Feb',\n",
    "    3: 'Mar',\n",
    "    4: 'Apr',\n",
    "    5: 'May',\n",
    "    6: 'Jun',\n",
    "    7: 'Jul',\n",
    "    8: 'Aug',\n",
    "    9: 'Sep',\n",
    "    10: 'Oct',\n",
    "    11: 'Nov',\n",
    "    12: 'Dec'\n",
    "}\n",
    "\n",
    "train_data['start month'] = train_data['start month'].map(monthmap)\n",
    "test_data['start month'] = test_data['start month'].map(monthmap)\n",
    "\n",
    "# on to 'Gender'\n",
    "gendermap = {'Male': 1, 'Female': 0}\n",
    "train_data['Gender'] = train_data['Gender'].map(gendermap)\n",
    "test_data['Gender'] = test_data['Gender'].map(gendermap)\n",
    "\n",
    "# Customer Feedback\n",
    "feedbackmap = {'Poor': 1, 'Average': 2, 'Good': 3}\n",
    "train_data['Customer Feedback'] = train_data['Customer Feedback'].map(feedbackmap)\n",
    "test_data['Customer Feedback'] = test_data['Customer Feedback'].map(feedbackmap)\n",
    "\n",
    "# Smoking Status\n",
    "smokingmap = {'Yes': 1, 'No': 0}\n",
    "train_data['Smoking Status'] = train_data['Smoking Status'].map(smokingmap)\n",
    "test_data['Smoking Status'] = test_data['Smoking Status'].map(smokingmap)\n",
    "print(len(train_data))\n",
    "print(len(test_data))\n",
    "\n",
    "# prepping data to go into machine learning model\n",
    "from sklearn.model_selection import train_test_split\n",
    "train_data = pd.get_dummies(train_data)\n",
    "test_data = pd.get_dummies(test_data)\n",
    "\n",
    "# converting boolean values to int\n",
    "bool_columns = train_data.select_dtypes(include=['bool']).columns\n",
    "train_data[bool_columns] = train_data[bool_columns].astype(int)\n",
    "test_data[bool_columns] = test_data[bool_columns].astype(int)\n",
    "\n",
    "# splitting train_data into train and mock test data\n",
    "X_train, X_mocktest, y_train, y_mocktest = train_test_split(train_data, y, test_size=0.2, random_state=0)\n",
    "print(len(X_train))\n",
    "\n",
    "print(pd.concat([train_data.nunique(), test_data.nunique()], axis=1))"
   ]
  },
  {
   "cell_type": "markdown",
   "id": "7119549c",
   "metadata": {
    "papermill": {
     "duration": 0.003579,
     "end_time": "2024-12-12T06:32:31.740243",
     "exception": false,
     "start_time": "2024-12-12T06:32:31.736664",
     "status": "completed"
    },
    "tags": []
   },
   "source": [
    "# 2) Model Configuration"
   ]
  },
  {
   "cell_type": "markdown",
   "id": "e002f109",
   "metadata": {
    "papermill": {
     "duration": 0.003479,
     "end_time": "2024-12-12T06:32:31.747598",
     "exception": false,
     "start_time": "2024-12-12T06:32:31.744119",
     "status": "completed"
    },
    "tags": []
   },
   "source": [
    "## 1. Linear Regressor"
   ]
  },
  {
   "cell_type": "code",
   "execution_count": 3,
   "id": "a63d3b15",
   "metadata": {
    "execution": {
     "iopub.execute_input": "2024-12-12T06:32:31.756939Z",
     "iopub.status.busy": "2024-12-12T06:32:31.756459Z",
     "iopub.status.idle": "2024-12-12T06:32:31.762389Z",
     "shell.execute_reply": "2024-12-12T06:32:31.761222Z"
    },
    "papermill": {
     "duration": 0.013357,
     "end_time": "2024-12-12T06:32:31.764721",
     "exception": false,
     "start_time": "2024-12-12T06:32:31.751364",
     "status": "completed"
    },
    "tags": []
   },
   "outputs": [],
   "source": [
    "# from sklearn.linear_model import LinearRegression\n",
    "from sklearn.metrics import mean_squared_log_error as msle\n",
    "\n",
    "# lrmodel = LinearRegression()\n",
    "# lrmodel.fit(X_train, y_train)\n",
    "# mockpreds = lrmodel.predict(X_mocktest)\n",
    "\n",
    "def rmsle(actual_y, predicted_y):\n",
    "    return np.sqrt(msle(actual_y, predicted_y))\n",
    "\n",
    "# print(rmsle(y_mocktest, mockpreds))\n",
    "\n",
    "# # # deleting objects after use to prevent ram overload\n",
    "# # del mockpreds, X_train, X_mocktest, y_train, y_mocktest"
   ]
  },
  {
   "cell_type": "markdown",
   "id": "2459e4b1",
   "metadata": {
    "papermill": {
     "duration": 0.003694,
     "end_time": "2024-12-12T06:32:31.772346",
     "exception": false,
     "start_time": "2024-12-12T06:32:31.768652",
     "status": "completed"
    },
    "tags": []
   },
   "source": [
    "## 2. DecisionTreeRegressor"
   ]
  },
  {
   "cell_type": "code",
   "execution_count": 4,
   "id": "397074e0",
   "metadata": {
    "execution": {
     "iopub.execute_input": "2024-12-12T06:32:31.782606Z",
     "iopub.status.busy": "2024-12-12T06:32:31.781537Z",
     "iopub.status.idle": "2024-12-12T06:32:31.786709Z",
     "shell.execute_reply": "2024-12-12T06:32:31.785308Z"
    },
    "papermill": {
     "duration": 0.013508,
     "end_time": "2024-12-12T06:32:31.789716",
     "exception": false,
     "start_time": "2024-12-12T06:32:31.776208",
     "status": "completed"
    },
    "tags": []
   },
   "outputs": [],
   "source": [
    "# from sklearn.tree import DecisionTreeRegressor\n",
    "# dtrmodel = DecisionTreeRegressor(random_state=0)\n",
    "# dtrmodel.fit(X_train, y_train)\n",
    "# mockpreds = dtrmodel.predict(X_mocktest)\n",
    "# print(rmsle(y_mocktest, mockpreds))\n",
    "\n",
    "# # # deleting objects after use to prevent ram overload\n",
    "# # del mockpreds, X_train, X_mocktest, y_train, y_mocktest"
   ]
  },
  {
   "cell_type": "markdown",
   "id": "626086fc",
   "metadata": {
    "papermill": {
     "duration": 0.006035,
     "end_time": "2024-12-12T06:32:31.802538",
     "exception": false,
     "start_time": "2024-12-12T06:32:31.796503",
     "status": "completed"
    },
    "tags": []
   },
   "source": [
    "## 3. RandomForestRegressor"
   ]
  },
  {
   "cell_type": "code",
   "execution_count": 5,
   "id": "eaba4716",
   "metadata": {
    "execution": {
     "iopub.execute_input": "2024-12-12T06:32:31.813184Z",
     "iopub.status.busy": "2024-12-12T06:32:31.812754Z",
     "iopub.status.idle": "2024-12-12T06:32:31.817628Z",
     "shell.execute_reply": "2024-12-12T06:32:31.816418Z"
    },
    "papermill": {
     "duration": 0.012484,
     "end_time": "2024-12-12T06:32:31.820019",
     "exception": false,
     "start_time": "2024-12-12T06:32:31.807535",
     "status": "completed"
    },
    "tags": []
   },
   "outputs": [],
   "source": [
    "# from sklearn.ensemble import RandomForestRegressor\n",
    "# rfrmodel = RandomForestRegressor(random_state=0)\n",
    "# rfrmodel.fit(X_train, y_train)\n",
    "# mockpreds = rfrmodel.predict(X_mocktest)\n",
    "# print(rmsle(y_mocktest, mockpreds))"
   ]
  },
  {
   "cell_type": "markdown",
   "id": "9bceae44",
   "metadata": {
    "papermill": {
     "duration": 0.00364,
     "end_time": "2024-12-12T06:32:31.827620",
     "exception": false,
     "start_time": "2024-12-12T06:32:31.823980",
     "status": "completed"
    },
    "tags": []
   },
   "source": [
    "## 3. Deep Neural Network with TensorFlow "
   ]
  },
  {
   "cell_type": "code",
   "execution_count": 6,
   "id": "448769b1",
   "metadata": {
    "execution": {
     "iopub.execute_input": "2024-12-12T06:32:31.838652Z",
     "iopub.status.busy": "2024-12-12T06:32:31.837430Z",
     "iopub.status.idle": "2024-12-12T06:34:57.651499Z",
     "shell.execute_reply": "2024-12-12T06:34:57.650224Z"
    },
    "papermill": {
     "duration": 145.822637,
     "end_time": "2024-12-12T06:34:57.654289",
     "exception": false,
     "start_time": "2024-12-12T06:32:31.831652",
     "status": "completed"
    },
    "tags": []
   },
   "outputs": [
    {
     "name": "stdout",
     "output_type": "stream",
     "text": [
      "Epoch 1/10\n",
      "\u001b[1m7680/7680\u001b[0m \u001b[32m━━━━━━━━━━━━━━━━━━━━\u001b[0m\u001b[37m\u001b[0m \u001b[1m14s\u001b[0m 2ms/step - loss: 1.5445 - val_loss: 1.1939\n",
      "Epoch 2/10\n",
      "\u001b[1m7680/7680\u001b[0m \u001b[32m━━━━━━━━━━━━━━━━━━━━\u001b[0m\u001b[37m\u001b[0m \u001b[1m13s\u001b[0m 2ms/step - loss: 1.2648 - val_loss: 1.1869\n",
      "Epoch 3/10\n",
      "\u001b[1m7680/7680\u001b[0m \u001b[32m━━━━━━━━━━━━━━━━━━━━\u001b[0m\u001b[37m\u001b[0m \u001b[1m12s\u001b[0m 2ms/step - loss: 1.2188 - val_loss: 1.1990\n",
      "Epoch 4/10\n",
      "\u001b[1m7680/7680\u001b[0m \u001b[32m━━━━━━━━━━━━━━━━━━━━\u001b[0m\u001b[37m\u001b[0m \u001b[1m13s\u001b[0m 2ms/step - loss: 1.1887 - val_loss: 1.1977\n",
      "Epoch 5/10\n",
      "\u001b[1m7680/7680\u001b[0m \u001b[32m━━━━━━━━━━━━━━━━━━━━\u001b[0m\u001b[37m\u001b[0m \u001b[1m12s\u001b[0m 2ms/step - loss: 1.1787 - val_loss: 1.1733\n",
      "Epoch 6/10\n",
      "\u001b[1m7680/7680\u001b[0m \u001b[32m━━━━━━━━━━━━━━━━━━━━\u001b[0m\u001b[37m\u001b[0m \u001b[1m13s\u001b[0m 2ms/step - loss: 1.1737 - val_loss: 1.1725\n",
      "Epoch 7/10\n",
      "\u001b[1m7680/7680\u001b[0m \u001b[32m━━━━━━━━━━━━━━━━━━━━\u001b[0m\u001b[37m\u001b[0m \u001b[1m13s\u001b[0m 2ms/step - loss: 1.1710 - val_loss: 1.1696\n",
      "Epoch 8/10\n",
      "\u001b[1m7680/7680\u001b[0m \u001b[32m━━━━━━━━━━━━━━━━━━━━\u001b[0m\u001b[37m\u001b[0m \u001b[1m12s\u001b[0m 2ms/step - loss: 1.1697 - val_loss: 1.1704\n",
      "Epoch 9/10\n",
      "\u001b[1m7680/7680\u001b[0m \u001b[32m━━━━━━━━━━━━━━━━━━━━\u001b[0m\u001b[37m\u001b[0m \u001b[1m13s\u001b[0m 2ms/step - loss: 1.1685 - val_loss: 1.1695\n",
      "Epoch 10/10\n",
      "\u001b[1m7680/7680\u001b[0m \u001b[32m━━━━━━━━━━━━━━━━━━━━\u001b[0m\u001b[37m\u001b[0m \u001b[1m13s\u001b[0m 2ms/step - loss: 1.1678 - val_loss: 1.1681\n",
      "\u001b[1m2400/2400\u001b[0m \u001b[32m━━━━━━━━━━━━━━━━━━━━\u001b[0m\u001b[37m\u001b[0m \u001b[1m3s\u001b[0m 1ms/step - loss: 1.1693\n"
     ]
    },
    {
     "data": {
      "text/plain": [
       "1.1723815202713013"
      ]
     },
     "execution_count": 6,
     "metadata": {},
     "output_type": "execute_result"
    }
   ],
   "source": [
    "import tensorflow as tf\n",
    "from tensorflow import keras\n",
    "from keras.layers import Dense\n",
    "import numpy as np\n",
    "# setting constant random_seed, similar to random_state in previous models\n",
    "keras.utils.set_random_seed(0)\n",
    "\n",
    "# Versmaking sequential api model\n",
    "seqmodel = tf.keras.Sequential()\n",
    "# start off small with 3 layers, including the input and output layers\n",
    "seqmodel.add(tf.keras.layers.Input(shape=(47,)))\n",
    "seqmodel.add(tf.keras.layers.Dense(64, activation='relu'))\n",
    "seqmodel.add(tf.keras.layers.Dense(32, activation='relu'))\n",
    "seqmodel.add(tf.keras.layers.Dense(1))\n",
    "seqmodel.compile(\n",
    "    optimizer='adam',\n",
    "    loss='msle'\n",
    "    # metrics=['mae', 'RootMeanSquaredError']\n",
    ")\n",
    "\n",
    "# converting dataframes to arrays\n",
    "X_train = X_train.to_numpy()\n",
    "X_mocktest = X_mocktest.to_numpy()\n",
    "y_train = y_train.to_numpy()\n",
    "y_mocktest = y_mocktest.to_numpy()\n",
    "\n",
    "# training the model\n",
    "seqmodel.fit(X_train, y_train, epochs=10, batch_size=100, validation_split=(0.2))\n",
    "seqmodel.evaluate(X_mocktest, y_mocktest, batch_size=100)"
   ]
  },
  {
   "cell_type": "markdown",
   "id": "dd69bc22",
   "metadata": {
    "papermill": {
     "duration": 0.122173,
     "end_time": "2024-12-12T06:34:57.900464",
     "exception": false,
     "start_time": "2024-12-12T06:34:57.778291",
     "status": "completed"
    },
    "tags": []
   },
   "source": [
    "# Submission (for sequential nn)"
   ]
  },
  {
   "cell_type": "code",
   "execution_count": 7,
   "id": "2146e7cd",
   "metadata": {
    "execution": {
     "iopub.execute_input": "2024-12-12T06:34:58.198370Z",
     "iopub.status.busy": "2024-12-12T06:34:58.197579Z",
     "iopub.status.idle": "2024-12-12T06:37:53.318233Z",
     "shell.execute_reply": "2024-12-12T06:37:53.316825Z"
    },
    "papermill": {
     "duration": 175.300152,
     "end_time": "2024-12-12T06:37:53.320901",
     "exception": false,
     "start_time": "2024-12-12T06:34:58.020749",
     "status": "completed"
    },
    "tags": []
   },
   "outputs": [
    {
     "name": "stdout",
     "output_type": "stream",
     "text": [
      "Epoch 1/10\n",
      "\u001b[1m12000/12000\u001b[0m \u001b[32m━━━━━━━━━━━━━━━━━━━━\u001b[0m\u001b[37m\u001b[0m \u001b[1m16s\u001b[0m 1ms/step - loss: 1.1685\n",
      "Epoch 2/10\n",
      "\u001b[1m12000/12000\u001b[0m \u001b[32m━━━━━━━━━━━━━━━━━━━━\u001b[0m\u001b[37m\u001b[0m \u001b[1m16s\u001b[0m 1ms/step - loss: 1.1679\n",
      "Epoch 3/10\n",
      "\u001b[1m12000/12000\u001b[0m \u001b[32m━━━━━━━━━━━━━━━━━━━━\u001b[0m\u001b[37m\u001b[0m \u001b[1m16s\u001b[0m 1ms/step - loss: 1.1674\n",
      "Epoch 4/10\n",
      "\u001b[1m12000/12000\u001b[0m \u001b[32m━━━━━━━━━━━━━━━━━━━━\u001b[0m\u001b[37m\u001b[0m \u001b[1m16s\u001b[0m 1ms/step - loss: 1.1669\n",
      "Epoch 5/10\n",
      "\u001b[1m12000/12000\u001b[0m \u001b[32m━━━━━━━━━━━━━━━━━━━━\u001b[0m\u001b[37m\u001b[0m \u001b[1m16s\u001b[0m 1ms/step - loss: 1.1664\n",
      "Epoch 6/10\n",
      "\u001b[1m12000/12000\u001b[0m \u001b[32m━━━━━━━━━━━━━━━━━━━━\u001b[0m\u001b[37m\u001b[0m \u001b[1m16s\u001b[0m 1ms/step - loss: 1.1657\n",
      "Epoch 7/10\n",
      "\u001b[1m12000/12000\u001b[0m \u001b[32m━━━━━━━━━━━━━━━━━━━━\u001b[0m\u001b[37m\u001b[0m \u001b[1m16s\u001b[0m 1ms/step - loss: 1.1649\n",
      "Epoch 8/10\n",
      "\u001b[1m12000/12000\u001b[0m \u001b[32m━━━━━━━━━━━━━━━━━━━━\u001b[0m\u001b[37m\u001b[0m \u001b[1m16s\u001b[0m 1ms/step - loss: 1.1645\n",
      "Epoch 9/10\n",
      "\u001b[1m12000/12000\u001b[0m \u001b[32m━━━━━━━━━━━━━━━━━━━━\u001b[0m\u001b[37m\u001b[0m \u001b[1m16s\u001b[0m 1ms/step - loss: 1.1638\n",
      "Epoch 10/10\n",
      "\u001b[1m12000/12000\u001b[0m \u001b[32m━━━━━━━━━━━━━━━━━━━━\u001b[0m\u001b[37m\u001b[0m \u001b[1m16s\u001b[0m 1ms/step - loss: 1.1630\n",
      "\u001b[1m8000/8000\u001b[0m \u001b[32m━━━━━━━━━━━━━━━━━━━━\u001b[0m\u001b[37m\u001b[0m \u001b[1m9s\u001b[0m 1ms/step\n",
      "             id  Premium Amount\n",
      "0       1200000      683.485474\n",
      "1       1200001      722.749023\n",
      "2       1200002      785.707092\n",
      "3       1200003      818.034485\n",
      "4       1200004      758.385498\n",
      "...         ...             ...\n",
      "799995  1999995      926.481201\n",
      "799996  1999996      400.881958\n",
      "799997  1999997      804.340698\n",
      "799998  1999998      718.402039\n",
      "799999  1999999      655.597168\n",
      "\n",
      "[800000 rows x 2 columns]\n",
      "success yahuu\n"
     ]
    }
   ],
   "source": [
    "# converting training df to np arrays\n",
    "train_data = train_data.to_numpy()\n",
    "y = y.to_numpy()\n",
    "\n",
    "seqmodel.fit(train_data, y, epochs=10, batch_size=100)\n",
    "\n",
    "# prepping test_data for the model\n",
    "test_data = pd.get_dummies(test_data)\n",
    "test_data = test_data.to_numpy()\n",
    "preds = seqmodel.predict(test_data, batch_size=100)\n",
    "\n",
    "# creating submission Dataframe\n",
    "preds = preds.flatten()\n",
    "output = pd.DataFrame({'id': test_ids, 'Premium Amount': preds})\n",
    "print(output)\n",
    "output.to_csv('submission.csv', index=False)\n",
    "print('success yahuu')"
   ]
  }
 ],
 "metadata": {
  "kaggle": {
   "accelerator": "none",
   "dataSources": [
    {
     "databundleVersionId": 10305135,
     "sourceId": 84896,
     "sourceType": "competition"
    }
   ],
   "dockerImageVersionId": 30786,
   "isGpuEnabled": false,
   "isInternetEnabled": true,
   "language": "python",
   "sourceType": "notebook"
  },
  "kernelspec": {
   "display_name": "Python 3",
   "language": "python",
   "name": "python3"
  },
  "language_info": {
   "codemirror_mode": {
    "name": "ipython",
    "version": 3
   },
   "file_extension": ".py",
   "mimetype": "text/x-python",
   "name": "python",
   "nbconvert_exporter": "python",
   "pygments_lexer": "ipython3",
   "version": "3.10.14"
  },
  "papermill": {
   "default_parameters": {},
   "duration": 348.051075,
   "end_time": "2024-12-12T06:37:55.309703",
   "environment_variables": {},
   "exception": null,
   "input_path": "__notebook__.ipynb",
   "output_path": "__notebook__.ipynb",
   "parameters": {},
   "start_time": "2024-12-12T06:32:07.258628",
   "version": "2.6.0"
  }
 },
 "nbformat": 4,
 "nbformat_minor": 5
}
